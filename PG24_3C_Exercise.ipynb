{
  "nbformat": 4,
  "nbformat_minor": 0,
  "metadata": {
    "colab": {
      "provenance": [],
      "include_colab_link": true
    },
    "kernelspec": {
      "name": "python3",
      "display_name": "Python 3"
    },
    "language_info": {
      "name": "python"
    }
  },
  "cells": [
    {
      "cell_type": "markdown",
      "metadata": {
        "id": "view-in-github",
        "colab_type": "text"
      },
      "source": [
        "<a href=\"https://colab.research.google.com/github/Kishan-09/Video-Game-Sales/blob/main/PG24_3C_Exercise.ipynb\" target=\"_parent\"><img src=\"https://colab.research.google.com/assets/colab-badge.svg\" alt=\"Open In Colab\"/></a>"
      ]
    },
    {
      "cell_type": "markdown",
      "source": [
        "![Yantrajaal Banner](https://github.com/Praxis-QR/RDWH/raw/main/images/YantraJaalBanner.png)<br>\n",
        "\n",
        "\n",
        "<hr>\n",
        "\n",
        "[Prithwis Mukerjee](http://www.linkedin.com/in/prithwis)<br>"
      ],
      "metadata": {
        "id": "DBzz-qaN2tKu"
      }
    },
    {
      "cell_type": "markdown",
      "source": [
        "#Postgres Exercises\n",
        "https://pgexercises.com/ <br>\n",
        "https://pgexercises.com/gettingstarted.html"
      ],
      "metadata": {
        "id": "QIfgaOrxZ39z"
      }
    },
    {
      "cell_type": "code",
      "source": [
        "from datetime import datetime\n",
        "import pytz\n",
        "print('ॐ श्री सरस्वत्यै नमः',datetime.now(pytz.timezone('Asia/Calcutta')))\n",
        "!python --version\n",
        "!lsb_release -a"
      ],
      "metadata": {
        "id": "txwvst5Hs5mI",
        "outputId": "22a4c457-b3ef-47b4-e458-a8975cdb1748",
        "colab": {
          "base_uri": "https://localhost:8080/"
        }
      },
      "execution_count": 1,
      "outputs": [
        {
          "output_type": "stream",
          "name": "stdout",
          "text": [
            "ॐ श्री सरस्वत्यै नमः 2025-08-18 00:08:44.920231+05:30\n",
            "Python 3.11.13\n",
            "No LSB modules are available.\n",
            "Distributor ID:\tUbuntu\n",
            "Description:\tUbuntu 22.04.4 LTS\n",
            "Release:\t22.04\n",
            "Codename:\tjammy\n"
          ]
        }
      ]
    },
    {
      "cell_type": "markdown",
      "source": [
        "#Install & Configure Postgres"
      ],
      "metadata": {
        "id": "nD-QawLT6kDr"
      }
    },
    {
      "cell_type": "code",
      "source": [
        "# Install postgresql server\n",
        "\n",
        "!apt update > /dev/null\n",
        "!apt install postgresql > /dev/null\n",
        "#!sudo -u postgres psql -V\n",
        "!psql -V\n",
        "!service postgresql start"
      ],
      "metadata": {
        "colab": {
          "base_uri": "https://localhost:8080/"
        },
        "id": "o_RaqE0OOHP3",
        "outputId": "b7ac134f-07b3-4fe8-c77b-4c000d18b78c"
      },
      "execution_count": 2,
      "outputs": [
        {
          "output_type": "stream",
          "name": "stdout",
          "text": [
            "\n",
            "WARNING: apt does not have a stable CLI interface. Use with caution in scripts.\n",
            "\n",
            "W: Skipping acquire of configured file 'main/source/Sources' as repository 'https://r2u.stat.illinois.edu/ubuntu jammy InRelease' does not seem to provide it (sources.list entry misspelt?)\n",
            "\n",
            "WARNING: apt does not have a stable CLI interface. Use with caution in scripts.\n",
            "\n",
            "psql (PostgreSQL) 14.18 (Ubuntu 14.18-0ubuntu0.22.04.1)\n",
            " * Starting PostgreSQL 14 database server\n",
            "   ...done.\n"
          ]
        }
      ]
    },
    {
      "cell_type": "code",
      "source": [
        "#!pip install psycopg2\n",
        "import psycopg2\n",
        "import pandas as pd"
      ],
      "metadata": {
        "id": "Ol-251fprgOZ"
      },
      "execution_count": 3,
      "outputs": []
    },
    {
      "cell_type": "markdown",
      "source": [
        "#Create Schema, Tables and Insert Data"
      ],
      "metadata": {
        "id": "JP7hBhEaYzW8"
      }
    },
    {
      "cell_type": "code",
      "source": [
        "# Change the database superuser 'postgres' to a non-default value 'pass'\n",
        "!sudo -u postgres psql -U postgres -c \"ALTER USER postgres PASSWORD 'pass';\""
      ],
      "metadata": {
        "colab": {
          "base_uri": "https://localhost:8080/"
        },
        "id": "NWkT4jeeQXw2",
        "outputId": "c680cae4-3ec0-442c-99e8-64c4e93c9125"
      },
      "execution_count": 4,
      "outputs": [
        {
          "output_type": "stream",
          "name": "stdout",
          "text": [
            "ALTER ROLE\n"
          ]
        }
      ]
    },
    {
      "cell_type": "code",
      "source": [
        "# Download and execute SQL file to create tables, load data\n",
        "#\n",
        "#!wget https://pgexercises.com/dbfiles/clubdata.sql\n",
        "!wget -q https://raw.githubusercontent.com/Praxis-QR/RDWH/main/data/clubdata.sql\n",
        "#Run the batch file to create tables, load data\n",
        "!psql -h localhost -U postgres -f clubdata.sql -d postgres -x -q\n"
      ],
      "metadata": {
        "id": "01kFB_EbXzKg",
        "colab": {
          "base_uri": "https://localhost:8080/"
        },
        "outputId": "7cfed93f-c185-4c2b-baf1-df394ae90d94"
      },
      "execution_count": 5,
      "outputs": [
        {
          "output_type": "stream",
          "name": "stdout",
          "text": [
            "Password for user postgres: \n"
          ]
        }
      ]
    },
    {
      "cell_type": "code",
      "source": [
        "# Create file to store the password. Else will be prompted each time\n",
        "#!echo \"localhost:5432:praxisdb:postgres:pass\" > ~/.pgpass\n",
        "!echo \"localhost:5432:exercises:postgres:pass\" > ~/.pgpass\n",
        "!chmod 0600 ~/.pgpass\n",
        "!cat ~/.pgpass"
      ],
      "metadata": {
        "colab": {
          "base_uri": "https://localhost:8080/"
        },
        "id": "jTtfpsn7P4ak",
        "outputId": "0afbc985-7a0c-48c6-a5ea-0f74a6cf97cb"
      },
      "execution_count": 6,
      "outputs": [
        {
          "output_type": "stream",
          "name": "stdout",
          "text": [
            "localhost:5432:exercises:postgres:pass\n"
          ]
        }
      ]
    },
    {
      "cell_type": "code",
      "source": [
        "#Note new database called exercises\n",
        "!psql -h localhost -p 5432 -Upostgres -c \"\\l\""
      ],
      "metadata": {
        "colab": {
          "base_uri": "https://localhost:8080/"
        },
        "id": "bjHFMAF_QhCD",
        "outputId": "c7252dbc-d800-47c4-a60f-48ee9eca8115"
      },
      "execution_count": 7,
      "outputs": [
        {
          "output_type": "stream",
          "name": "stdout",
          "text": [
            "Password for user postgres: \n",
            "                                  List of databases\n",
            "   Name    |  Owner   | Encoding |   Collate   |    Ctype    |   Access privileges   \n",
            "-----------+----------+----------+-------------+-------------+-----------------------\n",
            " exercises | postgres | UTF8     | en_US.UTF-8 | en_US.UTF-8 | \n",
            " postgres  | postgres | UTF8     | en_US.UTF-8 | en_US.UTF-8 | \n",
            " template0 | postgres | UTF8     | en_US.UTF-8 | en_US.UTF-8 | =c/postgres          +\n",
            "           |          |          |             |             | postgres=CTc/postgres\n",
            " template1 | postgres | UTF8     | en_US.UTF-8 | en_US.UTF-8 | =c/postgres          +\n",
            "           |          |          |             |             | postgres=CTc/postgres\n",
            "(4 rows)\n",
            "\n"
          ]
        }
      ]
    },
    {
      "cell_type": "code",
      "source": [
        "#Note three tables under schema cd\n",
        "!psql -h localhost -p 5432 -Upostgres -d exercises -c \"\\dt+ cd.*\""
      ],
      "metadata": {
        "colab": {
          "base_uri": "https://localhost:8080/"
        },
        "id": "AieaKdT9Qr7Z",
        "outputId": "39ce05ef-71cd-4b85-a2ff-1c101b7c2079"
      },
      "execution_count": 8,
      "outputs": [
        {
          "output_type": "stream",
          "name": "stdout",
          "text": [
            "                                      List of relations\n",
            " Schema |    Name    | Type  |  Owner   | Persistence | Access method |  Size  | Description \n",
            "--------+------------+-------+----------+-------------+---------------+--------+-------------\n",
            " cd     | bookings   | table | postgres | permanent   | heap          | 264 kB | \n",
            " cd     | facilities | table | postgres | permanent   | heap          | 16 kB  | \n",
            " cd     | members    | table | postgres | permanent   | heap          | 16 kB  | \n",
            "(3 rows)\n",
            "\n"
          ]
        }
      ]
    },
    {
      "cell_type": "code",
      "source": [
        "#Note column / datatypes of all tables under schema cd\n",
        "!psql -h localhost -p 5432 -Upostgres -d exercises -c \"\\d cd.*\""
      ],
      "metadata": {
        "id": "wsRd3GkIDdGu",
        "outputId": "a115b7ca-d44f-4b78-dbb6-4b40d4032bea",
        "colab": {
          "base_uri": "https://localhost:8080/"
        }
      },
      "execution_count": 9,
      "outputs": [
        {
          "output_type": "stream",
          "name": "stdout",
          "text": [
            "                           Table \"cd.bookings\"\n",
            "  Column   |            Type             | Collation | Nullable | Default \n",
            "-----------+-----------------------------+-----------+----------+---------\n",
            " bookid    | integer                     |           | not null | \n",
            " facid     | integer                     |           | not null | \n",
            " memid     | integer                     |           | not null | \n",
            " starttime | timestamp without time zone |           | not null | \n",
            " slots     | integer                     |           | not null | \n",
            "Indexes:\n",
            "    \"bookings_pk\" PRIMARY KEY, btree (bookid)\n",
            "    \"bookings.facid_memid\" btree (facid, memid)\n",
            "    \"bookings.facid_starttime\" btree (facid, starttime)\n",
            "    \"bookings.memid_facid\" btree (memid, facid)\n",
            "    \"bookings.memid_starttime\" btree (memid, starttime)\n",
            "    \"bookings.starttime\" btree (starttime)\n",
            "Foreign-key constraints:\n",
            "    \"fk_bookings_facid\" FOREIGN KEY (facid) REFERENCES cd.facilities(facid)\n",
            "    \"fk_bookings_memid\" FOREIGN KEY (memid) REFERENCES cd.members(memid)\n",
            "\n",
            "   Index \"cd.bookings.facid_memid\"\n",
            " Column |  Type   | Key? | Definition \n",
            "--------+---------+------+------------\n",
            " facid  | integer | yes  | facid\n",
            " memid  | integer | yes  | memid\n",
            "btree, for table \"cd.bookings\"\n",
            "\n",
            "             Index \"cd.bookings.facid_starttime\"\n",
            "  Column   |            Type             | Key? | Definition \n",
            "-----------+-----------------------------+------+------------\n",
            " facid     | integer                     | yes  | facid\n",
            " starttime | timestamp without time zone | yes  | starttime\n",
            "btree, for table \"cd.bookings\"\n",
            "\n",
            "   Index \"cd.bookings.memid_facid\"\n",
            " Column |  Type   | Key? | Definition \n",
            "--------+---------+------+------------\n",
            " memid  | integer | yes  | memid\n",
            " facid  | integer | yes  | facid\n",
            "btree, for table \"cd.bookings\"\n",
            "\n",
            "             Index \"cd.bookings.memid_starttime\"\n",
            "  Column   |            Type             | Key? | Definition \n",
            "-----------+-----------------------------+------+------------\n",
            " memid     | integer                     | yes  | memid\n",
            " starttime | timestamp without time zone | yes  | starttime\n",
            "btree, for table \"cd.bookings\"\n",
            "\n",
            "                Index \"cd.bookings.starttime\"\n",
            "  Column   |            Type             | Key? | Definition \n",
            "-----------+-----------------------------+------+------------\n",
            " starttime | timestamp without time zone | yes  | starttime\n",
            "btree, for table \"cd.bookings\"\n",
            "\n",
            "        Index \"cd.bookings_pk\"\n",
            " Column |  Type   | Key? | Definition \n",
            "--------+---------+------+------------\n",
            " bookid | integer | yes  | bookid\n",
            "primary key, btree, for table \"cd.bookings\"\n",
            "\n",
            "                            Table \"cd.facilities\"\n",
            "       Column       |          Type          | Collation | Nullable | Default \n",
            "--------------------+------------------------+-----------+----------+---------\n",
            " facid              | integer                |           | not null | \n",
            " name               | character varying(100) |           | not null | \n",
            " membercost         | numeric                |           | not null | \n",
            " guestcost          | numeric                |           | not null | \n",
            " initialoutlay      | numeric                |           | not null | \n",
            " monthlymaintenance | numeric                |           | not null | \n",
            "Indexes:\n",
            "    \"facilities_pk\" PRIMARY KEY, btree (facid)\n",
            "Referenced by:\n",
            "    TABLE \"cd.bookings\" CONSTRAINT \"fk_bookings_facid\" FOREIGN KEY (facid) REFERENCES cd.facilities(facid)\n",
            "\n",
            "       Index \"cd.facilities_pk\"\n",
            " Column |  Type   | Key? | Definition \n",
            "--------+---------+------+------------\n",
            " facid  | integer | yes  | facid\n",
            "primary key, btree, for table \"cd.facilities\"\n",
            "\n",
            "                              Table \"cd.members\"\n",
            "    Column     |            Type             | Collation | Nullable | Default \n",
            "---------------+-----------------------------+-----------+----------+---------\n",
            " memid         | integer                     |           | not null | \n",
            " surname       | character varying(200)      |           | not null | \n",
            " firstname     | character varying(200)      |           | not null | \n",
            " address       | character varying(300)      |           | not null | \n",
            " zipcode       | integer                     |           | not null | \n",
            " telephone     | character varying(20)       |           | not null | \n",
            " recommendedby | integer                     |           |          | \n",
            " joindate      | timestamp without time zone |           | not null | \n",
            "Indexes:\n",
            "    \"members_pk\" PRIMARY KEY, btree (memid)\n",
            "    \"members.joindate\" btree (joindate)\n",
            "    \"members.recommendedby\" btree (recommendedby)\n",
            "Foreign-key constraints:\n",
            "    \"fk_members_recommendedby\" FOREIGN KEY (recommendedby) REFERENCES cd.members(memid) ON DELETE SET NULL\n",
            "Referenced by:\n",
            "    TABLE \"cd.bookings\" CONSTRAINT \"fk_bookings_memid\" FOREIGN KEY (memid) REFERENCES cd.members(memid)\n",
            "    TABLE \"cd.members\" CONSTRAINT \"fk_members_recommendedby\" FOREIGN KEY (recommendedby) REFERENCES cd.members(memid) ON DELETE SET NULL\n",
            "\n",
            "                Index \"cd.members.joindate\"\n",
            "  Column  |            Type             | Key? | Definition \n",
            "----------+-----------------------------+------+------------\n",
            " joindate | timestamp without time zone | yes  | joindate\n",
            "btree, for table \"cd.members\"\n",
            "\n",
            "        Index \"cd.members.recommendedby\"\n",
            "    Column     |  Type   | Key? |  Definition   \n",
            "---------------+---------+------+---------------\n",
            " recommendedby | integer | yes  | recommendedby\n",
            "btree, for table \"cd.members\"\n",
            "\n",
            "        Index \"cd.members_pk\"\n",
            " Column |  Type   | Key? | Definition \n",
            "--------+---------+------+------------\n",
            " memid  | integer | yes  | memid\n",
            "primary key, btree, for table \"cd.members\"\n",
            "\n"
          ]
        }
      ]
    },
    {
      "cell_type": "code",
      "source": [
        "#Note column / datatypes of all tables under schema cd\n",
        "!psql -h localhost -p 5432 -Upostgres -d exercises -c \"\\d cd.members\""
      ],
      "metadata": {
        "id": "dkbN50QrD6Fo",
        "outputId": "c9c6b7a9-ce24-4f9f-f9b7-4b626021820f",
        "colab": {
          "base_uri": "https://localhost:8080/"
        }
      },
      "execution_count": 10,
      "outputs": [
        {
          "output_type": "stream",
          "name": "stdout",
          "text": [
            "                              Table \"cd.members\"\n",
            "    Column     |            Type             | Collation | Nullable | Default \n",
            "---------------+-----------------------------+-----------+----------+---------\n",
            " memid         | integer                     |           | not null | \n",
            " surname       | character varying(200)      |           | not null | \n",
            " firstname     | character varying(200)      |           | not null | \n",
            " address       | character varying(300)      |           | not null | \n",
            " zipcode       | integer                     |           | not null | \n",
            " telephone     | character varying(20)       |           | not null | \n",
            " recommendedby | integer                     |           |          | \n",
            " joindate      | timestamp without time zone |           | not null | \n",
            "Indexes:\n",
            "    \"members_pk\" PRIMARY KEY, btree (memid)\n",
            "    \"members.joindate\" btree (joindate)\n",
            "    \"members.recommendedby\" btree (recommendedby)\n",
            "Foreign-key constraints:\n",
            "    \"fk_members_recommendedby\" FOREIGN KEY (recommendedby) REFERENCES cd.members(memid) ON DELETE SET NULL\n",
            "Referenced by:\n",
            "    TABLE \"cd.bookings\" CONSTRAINT \"fk_bookings_memid\" FOREIGN KEY (memid) REFERENCES cd.members(memid)\n",
            "    TABLE \"cd.members\" CONSTRAINT \"fk_members_recommendedby\" FOREIGN KEY (recommendedby) REFERENCES cd.members(memid) ON DELETE SET NULL\n",
            "\n"
          ]
        }
      ]
    },
    {
      "cell_type": "markdown",
      "source": [
        "## Python Access\n",
        "https://www.tutorialspoint.com/python_data_access/python_postgresql_database_connection.htm"
      ],
      "metadata": {
        "id": "faZEj8_7CeZ8"
      }
    },
    {
      "cell_type": "code",
      "source": [
        "# Local Colab server\n",
        "\n",
        "conn = psycopg2.connect(database=\"exercises\", user='postgres', password='pass', host='127.0.0.1', port= '5432')\n",
        "#Creating a cursor object using the cursor() method\n",
        "cursor = conn.cursor()\n",
        "#Executing an MYSQL function using the execute() method\n",
        "cursor.execute(\"select version()\")\n",
        "# Fetch a single row using fetchone() method.\n",
        "data = cursor.fetchone()\n",
        "print(\"Connection established to: \",data)\n",
        "#Closing the connection\n",
        "conn.close()"
      ],
      "metadata": {
        "id": "wcE-8UBnC4zV",
        "outputId": "321330b8-9c10-4d99-edfe-ce695f041d1f",
        "colab": {
          "base_uri": "https://localhost:8080/"
        }
      },
      "execution_count": 11,
      "outputs": [
        {
          "output_type": "stream",
          "name": "stdout",
          "text": [
            "Connection established to:  ('PostgreSQL 14.18 (Ubuntu 14.18-0ubuntu0.22.04.1) on x86_64-pc-linux-gnu, compiled by gcc (Ubuntu 11.4.0-1ubuntu1~22.04) 11.4.0, 64-bit',)\n"
          ]
        }
      ]
    },
    {
      "cell_type": "code",
      "source": [
        "# function to execute SQL select statements with Postgres\n",
        "#\n",
        "def runSelect(s):\n",
        "    #Set up connection\n",
        "\n",
        "    conn = psycopg2.connect(database=\"exercises\", user='postgres', password='pass', host='127.0.0.1', port= '5432')\n",
        "    #Setting auto commit true\n",
        "    conn.autocommit = True\n",
        "    #Creating a cursor object using the cursor() method\n",
        "    cursor = conn.cursor()\n",
        "    #Retrieving data\n",
        "    cursor.execute(s)\n",
        "    #Fetching all rows from the table\n",
        "    result = cursor.fetchall();\n",
        "    #print(len(result))\n",
        "    if (len(result)) > 0:                                       # result contains at least one row\n",
        "        colnames = [desc[0] for desc in cursor.description]     # get column names\n",
        "        #print(colnames)\n",
        "        resultdf = pd.DataFrame(result)                         # convert list to dataframe\n",
        "        resultdf.columns = colnames                             # add column names\n",
        "        #return resultdf\n",
        "        return resultdf.style.hide()                            # hide the index\n",
        "    else:\n",
        "        print('no records found')\n",
        "        return\n",
        "# function to execute SQL non-select statements with Postgres\n",
        "#\n",
        "def runCmd(s):\n",
        "    #Create Connection\n",
        "    conn = psycopg2.connect(database=\"exercises\", user='postgres', password='pass', host='127.0.0.1', port= '5432')\n",
        "    #Creating a cursor object using the cursor() method\n",
        "    cursor = conn.cursor()\n",
        "    try:\n",
        "        cursor.execute(s)\n",
        "        print('Command executed')\n",
        "        conn.commit()\n",
        "    except:\n",
        "        print('Command failed')\n",
        "    #Closing the connection\n",
        "    conn.close()"
      ],
      "metadata": {
        "id": "ht2k7-3iggNd"
      },
      "execution_count": 12,
      "outputs": []
    },
    {
      "cell_type": "code",
      "source": [
        "def pyClient(s):\n",
        "    if s.split(' ', 1)[0].lower() == 'select':      # If first word = select\n",
        "        df = runSelect(s)                           # then use runSelect()\n",
        "        return df                                   # return the pandas dataframe obtained from runSelect()\n",
        "    else:                                           # else\n",
        "        runCmd(s)                                   # use runCmd()"
      ],
      "metadata": {
        "id": "MA7ERVfqgeNi"
      },
      "execution_count": 13,
      "outputs": []
    },
    {
      "cell_type": "markdown",
      "source": [
        "##Check Data"
      ],
      "metadata": {
        "id": "RvTKboYtbSjZ"
      }
    },
    {
      "cell_type": "code",
      "source": [
        "#runSelect(\"select * from cd.members limit 3\")\n",
        "pyClient(\"select * from cd.members limit 3\")"
      ],
      "metadata": {
        "colab": {
          "base_uri": "https://localhost:8080/",
          "height": 143
        },
        "id": "ctq0ULCvVTsO",
        "outputId": "000b80f0-6ad4-476c-dfd9-d7d42a1bbb54"
      },
      "execution_count": 14,
      "outputs": [
        {
          "output_type": "execute_result",
          "data": {
            "text/plain": [
              "<pandas.io.formats.style.Styler at 0x7f6ee901ded0>"
            ],
            "text/html": [
              "<style type=\"text/css\">\n",
              "</style>\n",
              "<table id=\"T_a80aa\" class=\"dataframe\">\n",
              "  <thead>\n",
              "    <tr>\n",
              "      <th id=\"T_a80aa_level0_col0\" class=\"col_heading level0 col0\" >memid</th>\n",
              "      <th id=\"T_a80aa_level0_col1\" class=\"col_heading level0 col1\" >surname</th>\n",
              "      <th id=\"T_a80aa_level0_col2\" class=\"col_heading level0 col2\" >firstname</th>\n",
              "      <th id=\"T_a80aa_level0_col3\" class=\"col_heading level0 col3\" >address</th>\n",
              "      <th id=\"T_a80aa_level0_col4\" class=\"col_heading level0 col4\" >zipcode</th>\n",
              "      <th id=\"T_a80aa_level0_col5\" class=\"col_heading level0 col5\" >telephone</th>\n",
              "      <th id=\"T_a80aa_level0_col6\" class=\"col_heading level0 col6\" >recommendedby</th>\n",
              "      <th id=\"T_a80aa_level0_col7\" class=\"col_heading level0 col7\" >joindate</th>\n",
              "    </tr>\n",
              "  </thead>\n",
              "  <tbody>\n",
              "    <tr>\n",
              "      <td id=\"T_a80aa_row0_col0\" class=\"data row0 col0\" >0</td>\n",
              "      <td id=\"T_a80aa_row0_col1\" class=\"data row0 col1\" >GUEST</td>\n",
              "      <td id=\"T_a80aa_row0_col2\" class=\"data row0 col2\" >GUEST</td>\n",
              "      <td id=\"T_a80aa_row0_col3\" class=\"data row0 col3\" >GUEST</td>\n",
              "      <td id=\"T_a80aa_row0_col4\" class=\"data row0 col4\" >0</td>\n",
              "      <td id=\"T_a80aa_row0_col5\" class=\"data row0 col5\" >(000) 000-0000</td>\n",
              "      <td id=\"T_a80aa_row0_col6\" class=\"data row0 col6\" >None</td>\n",
              "      <td id=\"T_a80aa_row0_col7\" class=\"data row0 col7\" >2012-07-01 00:00:00</td>\n",
              "    </tr>\n",
              "    <tr>\n",
              "      <td id=\"T_a80aa_row1_col0\" class=\"data row1 col0\" >1</td>\n",
              "      <td id=\"T_a80aa_row1_col1\" class=\"data row1 col1\" >Smith</td>\n",
              "      <td id=\"T_a80aa_row1_col2\" class=\"data row1 col2\" >Darren</td>\n",
              "      <td id=\"T_a80aa_row1_col3\" class=\"data row1 col3\" >8 Bloomsbury Close, Boston</td>\n",
              "      <td id=\"T_a80aa_row1_col4\" class=\"data row1 col4\" >4321</td>\n",
              "      <td id=\"T_a80aa_row1_col5\" class=\"data row1 col5\" >555-555-5555</td>\n",
              "      <td id=\"T_a80aa_row1_col6\" class=\"data row1 col6\" >None</td>\n",
              "      <td id=\"T_a80aa_row1_col7\" class=\"data row1 col7\" >2012-07-02 12:02:05</td>\n",
              "    </tr>\n",
              "    <tr>\n",
              "      <td id=\"T_a80aa_row2_col0\" class=\"data row2 col0\" >2</td>\n",
              "      <td id=\"T_a80aa_row2_col1\" class=\"data row2 col1\" >Smith</td>\n",
              "      <td id=\"T_a80aa_row2_col2\" class=\"data row2 col2\" >Tracy</td>\n",
              "      <td id=\"T_a80aa_row2_col3\" class=\"data row2 col3\" >8 Bloomsbury Close, New York</td>\n",
              "      <td id=\"T_a80aa_row2_col4\" class=\"data row2 col4\" >4321</td>\n",
              "      <td id=\"T_a80aa_row2_col5\" class=\"data row2 col5\" >555-555-5555</td>\n",
              "      <td id=\"T_a80aa_row2_col6\" class=\"data row2 col6\" >None</td>\n",
              "      <td id=\"T_a80aa_row2_col7\" class=\"data row2 col7\" >2012-07-02 12:08:23</td>\n",
              "    </tr>\n",
              "  </tbody>\n",
              "</table>\n"
            ]
          },
          "metadata": {},
          "execution_count": 14
        }
      ]
    },
    {
      "cell_type": "code",
      "source": [
        "#runSelect(\"select * from cd.facilities limit 3\")\n",
        "pyClient(\"select * from cd.facilities limit 3\")"
      ],
      "metadata": {
        "colab": {
          "base_uri": "https://localhost:8080/",
          "height": 143
        },
        "id": "Kz0e14SYXGqy",
        "outputId": "7938102b-5810-4f33-c9b5-6dd01574a639"
      },
      "execution_count": 15,
      "outputs": [
        {
          "output_type": "execute_result",
          "data": {
            "text/plain": [
              "<pandas.io.formats.style.Styler at 0x7f6ec6cb8750>"
            ],
            "text/html": [
              "<style type=\"text/css\">\n",
              "</style>\n",
              "<table id=\"T_d00ec\" class=\"dataframe\">\n",
              "  <thead>\n",
              "    <tr>\n",
              "      <th id=\"T_d00ec_level0_col0\" class=\"col_heading level0 col0\" >facid</th>\n",
              "      <th id=\"T_d00ec_level0_col1\" class=\"col_heading level0 col1\" >name</th>\n",
              "      <th id=\"T_d00ec_level0_col2\" class=\"col_heading level0 col2\" >membercost</th>\n",
              "      <th id=\"T_d00ec_level0_col3\" class=\"col_heading level0 col3\" >guestcost</th>\n",
              "      <th id=\"T_d00ec_level0_col4\" class=\"col_heading level0 col4\" >initialoutlay</th>\n",
              "      <th id=\"T_d00ec_level0_col5\" class=\"col_heading level0 col5\" >monthlymaintenance</th>\n",
              "    </tr>\n",
              "  </thead>\n",
              "  <tbody>\n",
              "    <tr>\n",
              "      <td id=\"T_d00ec_row0_col0\" class=\"data row0 col0\" >0</td>\n",
              "      <td id=\"T_d00ec_row0_col1\" class=\"data row0 col1\" >Tennis Court 1</td>\n",
              "      <td id=\"T_d00ec_row0_col2\" class=\"data row0 col2\" >5</td>\n",
              "      <td id=\"T_d00ec_row0_col3\" class=\"data row0 col3\" >25</td>\n",
              "      <td id=\"T_d00ec_row0_col4\" class=\"data row0 col4\" >10000</td>\n",
              "      <td id=\"T_d00ec_row0_col5\" class=\"data row0 col5\" >200</td>\n",
              "    </tr>\n",
              "    <tr>\n",
              "      <td id=\"T_d00ec_row1_col0\" class=\"data row1 col0\" >1</td>\n",
              "      <td id=\"T_d00ec_row1_col1\" class=\"data row1 col1\" >Tennis Court 2</td>\n",
              "      <td id=\"T_d00ec_row1_col2\" class=\"data row1 col2\" >5</td>\n",
              "      <td id=\"T_d00ec_row1_col3\" class=\"data row1 col3\" >25</td>\n",
              "      <td id=\"T_d00ec_row1_col4\" class=\"data row1 col4\" >8000</td>\n",
              "      <td id=\"T_d00ec_row1_col5\" class=\"data row1 col5\" >200</td>\n",
              "    </tr>\n",
              "    <tr>\n",
              "      <td id=\"T_d00ec_row2_col0\" class=\"data row2 col0\" >2</td>\n",
              "      <td id=\"T_d00ec_row2_col1\" class=\"data row2 col1\" >Badminton Court</td>\n",
              "      <td id=\"T_d00ec_row2_col2\" class=\"data row2 col2\" >0</td>\n",
              "      <td id=\"T_d00ec_row2_col3\" class=\"data row2 col3\" >15.5</td>\n",
              "      <td id=\"T_d00ec_row2_col4\" class=\"data row2 col4\" >4000</td>\n",
              "      <td id=\"T_d00ec_row2_col5\" class=\"data row2 col5\" >50</td>\n",
              "    </tr>\n",
              "  </tbody>\n",
              "</table>\n"
            ]
          },
          "metadata": {},
          "execution_count": 15
        }
      ]
    },
    {
      "cell_type": "code",
      "source": [
        "#runSelect(\"select * from cd.bookings limit 3\")\n",
        "pyClient(\"select * from cd.bookings limit 3\")"
      ],
      "metadata": {
        "colab": {
          "base_uri": "https://localhost:8080/",
          "height": 143
        },
        "id": "ZFliVHZwYn_P",
        "outputId": "564b671c-c4ac-4cf3-abfc-4d540d3a5788"
      },
      "execution_count": 16,
      "outputs": [
        {
          "output_type": "execute_result",
          "data": {
            "text/plain": [
              "<pandas.io.formats.style.Styler at 0x7f6ec6d93dd0>"
            ],
            "text/html": [
              "<style type=\"text/css\">\n",
              "</style>\n",
              "<table id=\"T_ffef6\" class=\"dataframe\">\n",
              "  <thead>\n",
              "    <tr>\n",
              "      <th id=\"T_ffef6_level0_col0\" class=\"col_heading level0 col0\" >bookid</th>\n",
              "      <th id=\"T_ffef6_level0_col1\" class=\"col_heading level0 col1\" >facid</th>\n",
              "      <th id=\"T_ffef6_level0_col2\" class=\"col_heading level0 col2\" >memid</th>\n",
              "      <th id=\"T_ffef6_level0_col3\" class=\"col_heading level0 col3\" >starttime</th>\n",
              "      <th id=\"T_ffef6_level0_col4\" class=\"col_heading level0 col4\" >slots</th>\n",
              "    </tr>\n",
              "  </thead>\n",
              "  <tbody>\n",
              "    <tr>\n",
              "      <td id=\"T_ffef6_row0_col0\" class=\"data row0 col0\" >0</td>\n",
              "      <td id=\"T_ffef6_row0_col1\" class=\"data row0 col1\" >3</td>\n",
              "      <td id=\"T_ffef6_row0_col2\" class=\"data row0 col2\" >1</td>\n",
              "      <td id=\"T_ffef6_row0_col3\" class=\"data row0 col3\" >2012-07-03 11:00:00</td>\n",
              "      <td id=\"T_ffef6_row0_col4\" class=\"data row0 col4\" >2</td>\n",
              "    </tr>\n",
              "    <tr>\n",
              "      <td id=\"T_ffef6_row1_col0\" class=\"data row1 col0\" >1</td>\n",
              "      <td id=\"T_ffef6_row1_col1\" class=\"data row1 col1\" >4</td>\n",
              "      <td id=\"T_ffef6_row1_col2\" class=\"data row1 col2\" >1</td>\n",
              "      <td id=\"T_ffef6_row1_col3\" class=\"data row1 col3\" >2012-07-03 08:00:00</td>\n",
              "      <td id=\"T_ffef6_row1_col4\" class=\"data row1 col4\" >2</td>\n",
              "    </tr>\n",
              "    <tr>\n",
              "      <td id=\"T_ffef6_row2_col0\" class=\"data row2 col0\" >2</td>\n",
              "      <td id=\"T_ffef6_row2_col1\" class=\"data row2 col1\" >6</td>\n",
              "      <td id=\"T_ffef6_row2_col2\" class=\"data row2 col2\" >0</td>\n",
              "      <td id=\"T_ffef6_row2_col3\" class=\"data row2 col3\" >2012-07-03 18:00:00</td>\n",
              "      <td id=\"T_ffef6_row2_col4\" class=\"data row2 col4\" >2</td>\n",
              "    </tr>\n",
              "  </tbody>\n",
              "</table>\n"
            ]
          },
          "metadata": {},
          "execution_count": 16
        }
      ]
    },
    {
      "cell_type": "code",
      "source": [
        "# Testing pyClient for non-Select SQL\n",
        "\n",
        "#pyClient('create table test(col1 char(10))')\n",
        "#pyClient(\"insert into test (col1) values('bbb')\")\n",
        "#pyClient('select * from test')"
      ],
      "metadata": {
        "id": "SV0xi-jLiTaz"
      },
      "execution_count": 17,
      "outputs": []
    },
    {
      "cell_type": "markdown",
      "source": [
        "##Modifying Data"
      ],
      "metadata": {
        "id": "ZVwv4rrTlefQ"
      }
    },
    {
      "cell_type": "code",
      "source": [
        "sql = \"\\\n",
        "insert into cd.facilities \\\n",
        "    (facid, name, membercost, guestcost, initialoutlay, monthlymaintenance) \\\n",
        "    values (9, 'Spa', 20, 30, 100000, 800); \\\n",
        "\"\n",
        "#print(sql)\n",
        "pyClient(sql)"
      ],
      "metadata": {
        "id": "7KFGCToWljTF",
        "outputId": "ac06e883-da76-4df9-ab86-caa174c4eb81",
        "colab": {
          "base_uri": "https://localhost:8080/"
        }
      },
      "execution_count": 18,
      "outputs": [
        {
          "output_type": "stream",
          "name": "stdout",
          "text": [
            "Command executed\n"
          ]
        }
      ]
    },
    {
      "cell_type": "code",
      "source": [
        "sql = \"\\\n",
        "insert into cd.facilities \\\n",
        "    (facid, name, membercost, guestcost, initialoutlay, monthlymaintenance) \\\n",
        "    values \\\n",
        "        (9, 'Spa', 20, 30, 100000, 800), \\\n",
        "        (10, 'Squash Court 2', 3.5, 17.5, 5000, 80);\\\n",
        "\""
      ],
      "metadata": {
        "id": "3ReJC8bll_CI"
      },
      "execution_count": 19,
      "outputs": []
    },
    {
      "cell_type": "code",
      "source": [
        "sql = \"\\\n",
        "insert into cd.facilities \\\n",
        "    (facid, name, membercost, guestcost, initialoutlay, monthlymaintenance) \\\n",
        "    values \\\n",
        "         (99, 'Spa', 20, 30, 100000, 800), \\\n",
        "         (10, 'Squash Court 2', 3.5, 17.5, 5000, 80);\\\n",
        "\"\n",
        "\n",
        "pyClient(sql)"
      ],
      "metadata": {
        "id": "n5PDjRiPmVzH",
        "outputId": "943abca6-9fd2-44c7-fdf1-8ec4755b7362",
        "colab": {
          "base_uri": "https://localhost:8080/"
        }
      },
      "execution_count": 20,
      "outputs": [
        {
          "output_type": "stream",
          "name": "stdout",
          "text": [
            "Command executed\n"
          ]
        }
      ]
    },
    {
      "cell_type": "markdown",
      "source": [
        "#ChronoTYM <br>\n",
        "In Indic phraseology, tantra is knowledge, a yantra is a device to explore this knowledge and a mantra is the code that unlocks both the tantra and its yantra. Chrono/TYM a sci-fi trilogy that recreates this framework where the first novel Chronotantra defines the contours of a tech driven, futuristic society, the second, Chronoyantra, describes a device used to explore the genesis of this society, while the third, Chronomantra finally reveals the code, the key, that unlocks this puzzle.  [More information](http://bit.ly/chronobooks) <br>\n",
        "![alt text](https://blogger.googleusercontent.com/img/b/R29vZ2xl/AVvXsEjdu_ajYwBRzk5iFYlcs59ZoRMMg6rhNm4JERKspvFJoveJsnfwRlzMICiC37UOja_Bd4sbfLA1pyyBbe0mj3tUfDBXoqCzNUDw3Wux7acoJBaLkWjAvJXfa7drRY2GQRAlFxEY9O7a7raY4RKy7cA3Uxgf5QsaZQ99C9GfXxFSex_rke8ROhAn41t8zOqK/s1640/tymBanner01_3.png)"
      ],
      "metadata": {
        "id": "_gNiZpyW3AzJ"
      }
    },
    {
      "cell_type": "code",
      "source": [
        "from datetime import datetime\n",
        "import pytz\n",
        "print('Last tested  ',datetime.now(pytz.timezone('Asia/Kolkata')))"
      ],
      "metadata": {
        "colab": {
          "base_uri": "https://localhost:8080/"
        },
        "id": "wjBXJVhM605H",
        "outputId": "0be97355-65b5-4a6a-ceb1-85500a067cd5"
      },
      "execution_count": 21,
      "outputs": [
        {
          "output_type": "stream",
          "name": "stdout",
          "text": [
            "Last tested   2025-08-18 00:09:35.418509+05:30\n"
          ]
        }
      ]
    },
    {
      "cell_type": "markdown",
      "source": [
        "**1. Basic**"
      ],
      "metadata": {
        "id": "Tqiv1NZ8jUz_"
      }
    },
    {
      "cell_type": "markdown",
      "source": [
        "1.1. Retrieve everything from a table\n"
      ],
      "metadata": {
        "id": "5bqMRO7lLqD8"
      }
    },
    {
      "cell_type": "code",
      "source": [
        "pyClient(\"select facid, name, membercost, guestcost, initialoutlay, monthlymaintenance from cd.facilities\")"
      ],
      "metadata": {
        "colab": {
          "base_uri": "https://localhost:8080/",
          "height": 426
        },
        "id": "08bY2HrtLLNz",
        "outputId": "4cece305-6ded-4571-a9e4-5bd783e8258c"
      },
      "execution_count": 22,
      "outputs": [
        {
          "output_type": "execute_result",
          "data": {
            "text/plain": [
              "<pandas.io.formats.style.Styler at 0x7f6ec6c53dd0>"
            ],
            "text/html": [
              "<style type=\"text/css\">\n",
              "</style>\n",
              "<table id=\"T_aad9c\" class=\"dataframe\">\n",
              "  <thead>\n",
              "    <tr>\n",
              "      <th id=\"T_aad9c_level0_col0\" class=\"col_heading level0 col0\" >facid</th>\n",
              "      <th id=\"T_aad9c_level0_col1\" class=\"col_heading level0 col1\" >name</th>\n",
              "      <th id=\"T_aad9c_level0_col2\" class=\"col_heading level0 col2\" >membercost</th>\n",
              "      <th id=\"T_aad9c_level0_col3\" class=\"col_heading level0 col3\" >guestcost</th>\n",
              "      <th id=\"T_aad9c_level0_col4\" class=\"col_heading level0 col4\" >initialoutlay</th>\n",
              "      <th id=\"T_aad9c_level0_col5\" class=\"col_heading level0 col5\" >monthlymaintenance</th>\n",
              "    </tr>\n",
              "  </thead>\n",
              "  <tbody>\n",
              "    <tr>\n",
              "      <td id=\"T_aad9c_row0_col0\" class=\"data row0 col0\" >0</td>\n",
              "      <td id=\"T_aad9c_row0_col1\" class=\"data row0 col1\" >Tennis Court 1</td>\n",
              "      <td id=\"T_aad9c_row0_col2\" class=\"data row0 col2\" >5</td>\n",
              "      <td id=\"T_aad9c_row0_col3\" class=\"data row0 col3\" >25</td>\n",
              "      <td id=\"T_aad9c_row0_col4\" class=\"data row0 col4\" >10000</td>\n",
              "      <td id=\"T_aad9c_row0_col5\" class=\"data row0 col5\" >200</td>\n",
              "    </tr>\n",
              "    <tr>\n",
              "      <td id=\"T_aad9c_row1_col0\" class=\"data row1 col0\" >1</td>\n",
              "      <td id=\"T_aad9c_row1_col1\" class=\"data row1 col1\" >Tennis Court 2</td>\n",
              "      <td id=\"T_aad9c_row1_col2\" class=\"data row1 col2\" >5</td>\n",
              "      <td id=\"T_aad9c_row1_col3\" class=\"data row1 col3\" >25</td>\n",
              "      <td id=\"T_aad9c_row1_col4\" class=\"data row1 col4\" >8000</td>\n",
              "      <td id=\"T_aad9c_row1_col5\" class=\"data row1 col5\" >200</td>\n",
              "    </tr>\n",
              "    <tr>\n",
              "      <td id=\"T_aad9c_row2_col0\" class=\"data row2 col0\" >2</td>\n",
              "      <td id=\"T_aad9c_row2_col1\" class=\"data row2 col1\" >Badminton Court</td>\n",
              "      <td id=\"T_aad9c_row2_col2\" class=\"data row2 col2\" >0</td>\n",
              "      <td id=\"T_aad9c_row2_col3\" class=\"data row2 col3\" >15.5</td>\n",
              "      <td id=\"T_aad9c_row2_col4\" class=\"data row2 col4\" >4000</td>\n",
              "      <td id=\"T_aad9c_row2_col5\" class=\"data row2 col5\" >50</td>\n",
              "    </tr>\n",
              "    <tr>\n",
              "      <td id=\"T_aad9c_row3_col0\" class=\"data row3 col0\" >3</td>\n",
              "      <td id=\"T_aad9c_row3_col1\" class=\"data row3 col1\" >Table Tennis</td>\n",
              "      <td id=\"T_aad9c_row3_col2\" class=\"data row3 col2\" >0</td>\n",
              "      <td id=\"T_aad9c_row3_col3\" class=\"data row3 col3\" >5</td>\n",
              "      <td id=\"T_aad9c_row3_col4\" class=\"data row3 col4\" >320</td>\n",
              "      <td id=\"T_aad9c_row3_col5\" class=\"data row3 col5\" >10</td>\n",
              "    </tr>\n",
              "    <tr>\n",
              "      <td id=\"T_aad9c_row4_col0\" class=\"data row4 col0\" >4</td>\n",
              "      <td id=\"T_aad9c_row4_col1\" class=\"data row4 col1\" >Massage Room 1</td>\n",
              "      <td id=\"T_aad9c_row4_col2\" class=\"data row4 col2\" >35</td>\n",
              "      <td id=\"T_aad9c_row4_col3\" class=\"data row4 col3\" >80</td>\n",
              "      <td id=\"T_aad9c_row4_col4\" class=\"data row4 col4\" >4000</td>\n",
              "      <td id=\"T_aad9c_row4_col5\" class=\"data row4 col5\" >3000</td>\n",
              "    </tr>\n",
              "    <tr>\n",
              "      <td id=\"T_aad9c_row5_col0\" class=\"data row5 col0\" >5</td>\n",
              "      <td id=\"T_aad9c_row5_col1\" class=\"data row5 col1\" >Massage Room 2</td>\n",
              "      <td id=\"T_aad9c_row5_col2\" class=\"data row5 col2\" >35</td>\n",
              "      <td id=\"T_aad9c_row5_col3\" class=\"data row5 col3\" >80</td>\n",
              "      <td id=\"T_aad9c_row5_col4\" class=\"data row5 col4\" >4000</td>\n",
              "      <td id=\"T_aad9c_row5_col5\" class=\"data row5 col5\" >3000</td>\n",
              "    </tr>\n",
              "    <tr>\n",
              "      <td id=\"T_aad9c_row6_col0\" class=\"data row6 col0\" >6</td>\n",
              "      <td id=\"T_aad9c_row6_col1\" class=\"data row6 col1\" >Squash Court</td>\n",
              "      <td id=\"T_aad9c_row6_col2\" class=\"data row6 col2\" >3.5</td>\n",
              "      <td id=\"T_aad9c_row6_col3\" class=\"data row6 col3\" >17.5</td>\n",
              "      <td id=\"T_aad9c_row6_col4\" class=\"data row6 col4\" >5000</td>\n",
              "      <td id=\"T_aad9c_row6_col5\" class=\"data row6 col5\" >80</td>\n",
              "    </tr>\n",
              "    <tr>\n",
              "      <td id=\"T_aad9c_row7_col0\" class=\"data row7 col0\" >7</td>\n",
              "      <td id=\"T_aad9c_row7_col1\" class=\"data row7 col1\" >Snooker Table</td>\n",
              "      <td id=\"T_aad9c_row7_col2\" class=\"data row7 col2\" >0</td>\n",
              "      <td id=\"T_aad9c_row7_col3\" class=\"data row7 col3\" >5</td>\n",
              "      <td id=\"T_aad9c_row7_col4\" class=\"data row7 col4\" >450</td>\n",
              "      <td id=\"T_aad9c_row7_col5\" class=\"data row7 col5\" >15</td>\n",
              "    </tr>\n",
              "    <tr>\n",
              "      <td id=\"T_aad9c_row8_col0\" class=\"data row8 col0\" >8</td>\n",
              "      <td id=\"T_aad9c_row8_col1\" class=\"data row8 col1\" >Pool Table</td>\n",
              "      <td id=\"T_aad9c_row8_col2\" class=\"data row8 col2\" >0</td>\n",
              "      <td id=\"T_aad9c_row8_col3\" class=\"data row8 col3\" >5</td>\n",
              "      <td id=\"T_aad9c_row8_col4\" class=\"data row8 col4\" >400</td>\n",
              "      <td id=\"T_aad9c_row8_col5\" class=\"data row8 col5\" >15</td>\n",
              "    </tr>\n",
              "    <tr>\n",
              "      <td id=\"T_aad9c_row9_col0\" class=\"data row9 col0\" >9</td>\n",
              "      <td id=\"T_aad9c_row9_col1\" class=\"data row9 col1\" >Spa</td>\n",
              "      <td id=\"T_aad9c_row9_col2\" class=\"data row9 col2\" >20</td>\n",
              "      <td id=\"T_aad9c_row9_col3\" class=\"data row9 col3\" >30</td>\n",
              "      <td id=\"T_aad9c_row9_col4\" class=\"data row9 col4\" >100000</td>\n",
              "      <td id=\"T_aad9c_row9_col5\" class=\"data row9 col5\" >800</td>\n",
              "    </tr>\n",
              "    <tr>\n",
              "      <td id=\"T_aad9c_row10_col0\" class=\"data row10 col0\" >99</td>\n",
              "      <td id=\"T_aad9c_row10_col1\" class=\"data row10 col1\" >Spa</td>\n",
              "      <td id=\"T_aad9c_row10_col2\" class=\"data row10 col2\" >20</td>\n",
              "      <td id=\"T_aad9c_row10_col3\" class=\"data row10 col3\" >30</td>\n",
              "      <td id=\"T_aad9c_row10_col4\" class=\"data row10 col4\" >100000</td>\n",
              "      <td id=\"T_aad9c_row10_col5\" class=\"data row10 col5\" >800</td>\n",
              "    </tr>\n",
              "    <tr>\n",
              "      <td id=\"T_aad9c_row11_col0\" class=\"data row11 col0\" >10</td>\n",
              "      <td id=\"T_aad9c_row11_col1\" class=\"data row11 col1\" >Squash Court 2</td>\n",
              "      <td id=\"T_aad9c_row11_col2\" class=\"data row11 col2\" >3.5</td>\n",
              "      <td id=\"T_aad9c_row11_col3\" class=\"data row11 col3\" >17.5</td>\n",
              "      <td id=\"T_aad9c_row11_col4\" class=\"data row11 col4\" >5000</td>\n",
              "      <td id=\"T_aad9c_row11_col5\" class=\"data row11 col5\" >80</td>\n",
              "    </tr>\n",
              "  </tbody>\n",
              "</table>\n"
            ]
          },
          "metadata": {},
          "execution_count": 22
        }
      ]
    },
    {
      "cell_type": "markdown",
      "source": [
        "1.2 Retrieve specific columns from a table"
      ],
      "metadata": {
        "id": "MmzByebDLu0o"
      }
    },
    {
      "cell_type": "code",
      "source": [
        "pyClient(\"select name, membercost from cd.facilities\")"
      ],
      "metadata": {
        "colab": {
          "base_uri": "https://localhost:8080/",
          "height": 426
        },
        "id": "PbvhxNYkL8QI",
        "outputId": "774e4279-c2fc-40fb-8b70-82e6714a6ad5"
      },
      "execution_count": 23,
      "outputs": [
        {
          "output_type": "execute_result",
          "data": {
            "text/plain": [
              "<pandas.io.formats.style.Styler at 0x7f6ec6c2de50>"
            ],
            "text/html": [
              "<style type=\"text/css\">\n",
              "</style>\n",
              "<table id=\"T_27c09\" class=\"dataframe\">\n",
              "  <thead>\n",
              "    <tr>\n",
              "      <th id=\"T_27c09_level0_col0\" class=\"col_heading level0 col0\" >name</th>\n",
              "      <th id=\"T_27c09_level0_col1\" class=\"col_heading level0 col1\" >membercost</th>\n",
              "    </tr>\n",
              "  </thead>\n",
              "  <tbody>\n",
              "    <tr>\n",
              "      <td id=\"T_27c09_row0_col0\" class=\"data row0 col0\" >Tennis Court 1</td>\n",
              "      <td id=\"T_27c09_row0_col1\" class=\"data row0 col1\" >5</td>\n",
              "    </tr>\n",
              "    <tr>\n",
              "      <td id=\"T_27c09_row1_col0\" class=\"data row1 col0\" >Tennis Court 2</td>\n",
              "      <td id=\"T_27c09_row1_col1\" class=\"data row1 col1\" >5</td>\n",
              "    </tr>\n",
              "    <tr>\n",
              "      <td id=\"T_27c09_row2_col0\" class=\"data row2 col0\" >Badminton Court</td>\n",
              "      <td id=\"T_27c09_row2_col1\" class=\"data row2 col1\" >0</td>\n",
              "    </tr>\n",
              "    <tr>\n",
              "      <td id=\"T_27c09_row3_col0\" class=\"data row3 col0\" >Table Tennis</td>\n",
              "      <td id=\"T_27c09_row3_col1\" class=\"data row3 col1\" >0</td>\n",
              "    </tr>\n",
              "    <tr>\n",
              "      <td id=\"T_27c09_row4_col0\" class=\"data row4 col0\" >Massage Room 1</td>\n",
              "      <td id=\"T_27c09_row4_col1\" class=\"data row4 col1\" >35</td>\n",
              "    </tr>\n",
              "    <tr>\n",
              "      <td id=\"T_27c09_row5_col0\" class=\"data row5 col0\" >Massage Room 2</td>\n",
              "      <td id=\"T_27c09_row5_col1\" class=\"data row5 col1\" >35</td>\n",
              "    </tr>\n",
              "    <tr>\n",
              "      <td id=\"T_27c09_row6_col0\" class=\"data row6 col0\" >Squash Court</td>\n",
              "      <td id=\"T_27c09_row6_col1\" class=\"data row6 col1\" >3.5</td>\n",
              "    </tr>\n",
              "    <tr>\n",
              "      <td id=\"T_27c09_row7_col0\" class=\"data row7 col0\" >Snooker Table</td>\n",
              "      <td id=\"T_27c09_row7_col1\" class=\"data row7 col1\" >0</td>\n",
              "    </tr>\n",
              "    <tr>\n",
              "      <td id=\"T_27c09_row8_col0\" class=\"data row8 col0\" >Pool Table</td>\n",
              "      <td id=\"T_27c09_row8_col1\" class=\"data row8 col1\" >0</td>\n",
              "    </tr>\n",
              "    <tr>\n",
              "      <td id=\"T_27c09_row9_col0\" class=\"data row9 col0\" >Spa</td>\n",
              "      <td id=\"T_27c09_row9_col1\" class=\"data row9 col1\" >20</td>\n",
              "    </tr>\n",
              "    <tr>\n",
              "      <td id=\"T_27c09_row10_col0\" class=\"data row10 col0\" >Spa</td>\n",
              "      <td id=\"T_27c09_row10_col1\" class=\"data row10 col1\" >20</td>\n",
              "    </tr>\n",
              "    <tr>\n",
              "      <td id=\"T_27c09_row11_col0\" class=\"data row11 col0\" >Squash Court 2</td>\n",
              "      <td id=\"T_27c09_row11_col1\" class=\"data row11 col1\" >3.5</td>\n",
              "    </tr>\n",
              "  </tbody>\n",
              "</table>\n"
            ]
          },
          "metadata": {},
          "execution_count": 23
        }
      ]
    },
    {
      "cell_type": "markdown",
      "source": [
        "1.3  Control which rows are retrieved (Where)"
      ],
      "metadata": {
        "id": "eUA-xRrpMIHb"
      }
    },
    {
      "cell_type": "code",
      "source": [
        "pyClient(\"select facid, name, membercost, guestcost, initialoutlay, monthlymaintenance from cd.facilities where membercost>0 \")"
      ],
      "metadata": {
        "colab": {
          "base_uri": "https://localhost:8080/",
          "height": 300
        },
        "id": "kJ1pbgQcMGy9",
        "outputId": "b0b94378-c05c-492e-8718-afd49ae848b0"
      },
      "execution_count": 24,
      "outputs": [
        {
          "output_type": "execute_result",
          "data": {
            "text/plain": [
              "<pandas.io.formats.style.Styler at 0x7f6ec6c07550>"
            ],
            "text/html": [
              "<style type=\"text/css\">\n",
              "</style>\n",
              "<table id=\"T_725c4\" class=\"dataframe\">\n",
              "  <thead>\n",
              "    <tr>\n",
              "      <th id=\"T_725c4_level0_col0\" class=\"col_heading level0 col0\" >facid</th>\n",
              "      <th id=\"T_725c4_level0_col1\" class=\"col_heading level0 col1\" >name</th>\n",
              "      <th id=\"T_725c4_level0_col2\" class=\"col_heading level0 col2\" >membercost</th>\n",
              "      <th id=\"T_725c4_level0_col3\" class=\"col_heading level0 col3\" >guestcost</th>\n",
              "      <th id=\"T_725c4_level0_col4\" class=\"col_heading level0 col4\" >initialoutlay</th>\n",
              "      <th id=\"T_725c4_level0_col5\" class=\"col_heading level0 col5\" >monthlymaintenance</th>\n",
              "    </tr>\n",
              "  </thead>\n",
              "  <tbody>\n",
              "    <tr>\n",
              "      <td id=\"T_725c4_row0_col0\" class=\"data row0 col0\" >0</td>\n",
              "      <td id=\"T_725c4_row0_col1\" class=\"data row0 col1\" >Tennis Court 1</td>\n",
              "      <td id=\"T_725c4_row0_col2\" class=\"data row0 col2\" >5</td>\n",
              "      <td id=\"T_725c4_row0_col3\" class=\"data row0 col3\" >25</td>\n",
              "      <td id=\"T_725c4_row0_col4\" class=\"data row0 col4\" >10000</td>\n",
              "      <td id=\"T_725c4_row0_col5\" class=\"data row0 col5\" >200</td>\n",
              "    </tr>\n",
              "    <tr>\n",
              "      <td id=\"T_725c4_row1_col0\" class=\"data row1 col0\" >1</td>\n",
              "      <td id=\"T_725c4_row1_col1\" class=\"data row1 col1\" >Tennis Court 2</td>\n",
              "      <td id=\"T_725c4_row1_col2\" class=\"data row1 col2\" >5</td>\n",
              "      <td id=\"T_725c4_row1_col3\" class=\"data row1 col3\" >25</td>\n",
              "      <td id=\"T_725c4_row1_col4\" class=\"data row1 col4\" >8000</td>\n",
              "      <td id=\"T_725c4_row1_col5\" class=\"data row1 col5\" >200</td>\n",
              "    </tr>\n",
              "    <tr>\n",
              "      <td id=\"T_725c4_row2_col0\" class=\"data row2 col0\" >4</td>\n",
              "      <td id=\"T_725c4_row2_col1\" class=\"data row2 col1\" >Massage Room 1</td>\n",
              "      <td id=\"T_725c4_row2_col2\" class=\"data row2 col2\" >35</td>\n",
              "      <td id=\"T_725c4_row2_col3\" class=\"data row2 col3\" >80</td>\n",
              "      <td id=\"T_725c4_row2_col4\" class=\"data row2 col4\" >4000</td>\n",
              "      <td id=\"T_725c4_row2_col5\" class=\"data row2 col5\" >3000</td>\n",
              "    </tr>\n",
              "    <tr>\n",
              "      <td id=\"T_725c4_row3_col0\" class=\"data row3 col0\" >5</td>\n",
              "      <td id=\"T_725c4_row3_col1\" class=\"data row3 col1\" >Massage Room 2</td>\n",
              "      <td id=\"T_725c4_row3_col2\" class=\"data row3 col2\" >35</td>\n",
              "      <td id=\"T_725c4_row3_col3\" class=\"data row3 col3\" >80</td>\n",
              "      <td id=\"T_725c4_row3_col4\" class=\"data row3 col4\" >4000</td>\n",
              "      <td id=\"T_725c4_row3_col5\" class=\"data row3 col5\" >3000</td>\n",
              "    </tr>\n",
              "    <tr>\n",
              "      <td id=\"T_725c4_row4_col0\" class=\"data row4 col0\" >6</td>\n",
              "      <td id=\"T_725c4_row4_col1\" class=\"data row4 col1\" >Squash Court</td>\n",
              "      <td id=\"T_725c4_row4_col2\" class=\"data row4 col2\" >3.5</td>\n",
              "      <td id=\"T_725c4_row4_col3\" class=\"data row4 col3\" >17.5</td>\n",
              "      <td id=\"T_725c4_row4_col4\" class=\"data row4 col4\" >5000</td>\n",
              "      <td id=\"T_725c4_row4_col5\" class=\"data row4 col5\" >80</td>\n",
              "    </tr>\n",
              "    <tr>\n",
              "      <td id=\"T_725c4_row5_col0\" class=\"data row5 col0\" >9</td>\n",
              "      <td id=\"T_725c4_row5_col1\" class=\"data row5 col1\" >Spa</td>\n",
              "      <td id=\"T_725c4_row5_col2\" class=\"data row5 col2\" >20</td>\n",
              "      <td id=\"T_725c4_row5_col3\" class=\"data row5 col3\" >30</td>\n",
              "      <td id=\"T_725c4_row5_col4\" class=\"data row5 col4\" >100000</td>\n",
              "      <td id=\"T_725c4_row5_col5\" class=\"data row5 col5\" >800</td>\n",
              "    </tr>\n",
              "    <tr>\n",
              "      <td id=\"T_725c4_row6_col0\" class=\"data row6 col0\" >99</td>\n",
              "      <td id=\"T_725c4_row6_col1\" class=\"data row6 col1\" >Spa</td>\n",
              "      <td id=\"T_725c4_row6_col2\" class=\"data row6 col2\" >20</td>\n",
              "      <td id=\"T_725c4_row6_col3\" class=\"data row6 col3\" >30</td>\n",
              "      <td id=\"T_725c4_row6_col4\" class=\"data row6 col4\" >100000</td>\n",
              "      <td id=\"T_725c4_row6_col5\" class=\"data row6 col5\" >800</td>\n",
              "    </tr>\n",
              "    <tr>\n",
              "      <td id=\"T_725c4_row7_col0\" class=\"data row7 col0\" >10</td>\n",
              "      <td id=\"T_725c4_row7_col1\" class=\"data row7 col1\" >Squash Court 2</td>\n",
              "      <td id=\"T_725c4_row7_col2\" class=\"data row7 col2\" >3.5</td>\n",
              "      <td id=\"T_725c4_row7_col3\" class=\"data row7 col3\" >17.5</td>\n",
              "      <td id=\"T_725c4_row7_col4\" class=\"data row7 col4\" >5000</td>\n",
              "      <td id=\"T_725c4_row7_col5\" class=\"data row7 col5\" >80</td>\n",
              "    </tr>\n",
              "  </tbody>\n",
              "</table>\n"
            ]
          },
          "metadata": {},
          "execution_count": 24
        }
      ]
    },
    {
      "cell_type": "markdown",
      "source": [
        "1.4 Control which rows are retrieved - part 2"
      ],
      "metadata": {
        "id": "yJ0Wbk1LNq2q"
      }
    },
    {
      "cell_type": "code",
      "source": [
        "pyClient(\"select facid,name, membercost, monthlymaintenance from cd.facilities where membercost=35\")"
      ],
      "metadata": {
        "colab": {
          "base_uri": "https://localhost:8080/",
          "height": 112
        },
        "id": "nrJ6ouffNefz",
        "outputId": "d9e33dd6-6046-4b0e-f754-0746b9c0daa2"
      },
      "execution_count": 25,
      "outputs": [
        {
          "output_type": "execute_result",
          "data": {
            "text/plain": [
              "<pandas.io.formats.style.Styler at 0x7f6ec6c07f10>"
            ],
            "text/html": [
              "<style type=\"text/css\">\n",
              "</style>\n",
              "<table id=\"T_361ef\" class=\"dataframe\">\n",
              "  <thead>\n",
              "    <tr>\n",
              "      <th id=\"T_361ef_level0_col0\" class=\"col_heading level0 col0\" >facid</th>\n",
              "      <th id=\"T_361ef_level0_col1\" class=\"col_heading level0 col1\" >name</th>\n",
              "      <th id=\"T_361ef_level0_col2\" class=\"col_heading level0 col2\" >membercost</th>\n",
              "      <th id=\"T_361ef_level0_col3\" class=\"col_heading level0 col3\" >monthlymaintenance</th>\n",
              "    </tr>\n",
              "  </thead>\n",
              "  <tbody>\n",
              "    <tr>\n",
              "      <td id=\"T_361ef_row0_col0\" class=\"data row0 col0\" >4</td>\n",
              "      <td id=\"T_361ef_row0_col1\" class=\"data row0 col1\" >Massage Room 1</td>\n",
              "      <td id=\"T_361ef_row0_col2\" class=\"data row0 col2\" >35</td>\n",
              "      <td id=\"T_361ef_row0_col3\" class=\"data row0 col3\" >3000</td>\n",
              "    </tr>\n",
              "    <tr>\n",
              "      <td id=\"T_361ef_row1_col0\" class=\"data row1 col0\" >5</td>\n",
              "      <td id=\"T_361ef_row1_col1\" class=\"data row1 col1\" >Massage Room 2</td>\n",
              "      <td id=\"T_361ef_row1_col2\" class=\"data row1 col2\" >35</td>\n",
              "      <td id=\"T_361ef_row1_col3\" class=\"data row1 col3\" >3000</td>\n",
              "    </tr>\n",
              "  </tbody>\n",
              "</table>\n"
            ]
          },
          "metadata": {},
          "execution_count": 25
        }
      ]
    },
    {
      "cell_type": "markdown",
      "source": [
        "1.5 Basic string searches"
      ],
      "metadata": {
        "id": "gQwWwoBLO0Jn"
      }
    },
    {
      "cell_type": "code",
      "source": [
        "pyClient(\"select * from cd.facilities where name like 'Tennis%' or name like 'Table%'\")"
      ],
      "metadata": {
        "colab": {
          "base_uri": "https://localhost:8080/",
          "height": 143
        },
        "id": "6HwO-iyxOL7e",
        "outputId": "9cfaa47a-f81c-46ab-9ec8-f352b43e132f"
      },
      "execution_count": 26,
      "outputs": [
        {
          "output_type": "execute_result",
          "data": {
            "text/plain": [
              "<pandas.io.formats.style.Styler at 0x7f6ec6c9af50>"
            ],
            "text/html": [
              "<style type=\"text/css\">\n",
              "</style>\n",
              "<table id=\"T_02d26\" class=\"dataframe\">\n",
              "  <thead>\n",
              "    <tr>\n",
              "      <th id=\"T_02d26_level0_col0\" class=\"col_heading level0 col0\" >facid</th>\n",
              "      <th id=\"T_02d26_level0_col1\" class=\"col_heading level0 col1\" >name</th>\n",
              "      <th id=\"T_02d26_level0_col2\" class=\"col_heading level0 col2\" >membercost</th>\n",
              "      <th id=\"T_02d26_level0_col3\" class=\"col_heading level0 col3\" >guestcost</th>\n",
              "      <th id=\"T_02d26_level0_col4\" class=\"col_heading level0 col4\" >initialoutlay</th>\n",
              "      <th id=\"T_02d26_level0_col5\" class=\"col_heading level0 col5\" >monthlymaintenance</th>\n",
              "    </tr>\n",
              "  </thead>\n",
              "  <tbody>\n",
              "    <tr>\n",
              "      <td id=\"T_02d26_row0_col0\" class=\"data row0 col0\" >0</td>\n",
              "      <td id=\"T_02d26_row0_col1\" class=\"data row0 col1\" >Tennis Court 1</td>\n",
              "      <td id=\"T_02d26_row0_col2\" class=\"data row0 col2\" >5</td>\n",
              "      <td id=\"T_02d26_row0_col3\" class=\"data row0 col3\" >25</td>\n",
              "      <td id=\"T_02d26_row0_col4\" class=\"data row0 col4\" >10000</td>\n",
              "      <td id=\"T_02d26_row0_col5\" class=\"data row0 col5\" >200</td>\n",
              "    </tr>\n",
              "    <tr>\n",
              "      <td id=\"T_02d26_row1_col0\" class=\"data row1 col0\" >1</td>\n",
              "      <td id=\"T_02d26_row1_col1\" class=\"data row1 col1\" >Tennis Court 2</td>\n",
              "      <td id=\"T_02d26_row1_col2\" class=\"data row1 col2\" >5</td>\n",
              "      <td id=\"T_02d26_row1_col3\" class=\"data row1 col3\" >25</td>\n",
              "      <td id=\"T_02d26_row1_col4\" class=\"data row1 col4\" >8000</td>\n",
              "      <td id=\"T_02d26_row1_col5\" class=\"data row1 col5\" >200</td>\n",
              "    </tr>\n",
              "    <tr>\n",
              "      <td id=\"T_02d26_row2_col0\" class=\"data row2 col0\" >3</td>\n",
              "      <td id=\"T_02d26_row2_col1\" class=\"data row2 col1\" >Table Tennis</td>\n",
              "      <td id=\"T_02d26_row2_col2\" class=\"data row2 col2\" >0</td>\n",
              "      <td id=\"T_02d26_row2_col3\" class=\"data row2 col3\" >5</td>\n",
              "      <td id=\"T_02d26_row2_col4\" class=\"data row2 col4\" >320</td>\n",
              "      <td id=\"T_02d26_row2_col5\" class=\"data row2 col5\" >10</td>\n",
              "    </tr>\n",
              "  </tbody>\n",
              "</table>\n"
            ]
          },
          "metadata": {},
          "execution_count": 26
        }
      ]
    },
    {
      "cell_type": "markdown",
      "source": [
        "1.6 Matching against multiple possible values"
      ],
      "metadata": {
        "id": "kMaSpKJVPRsz"
      }
    },
    {
      "cell_type": "code",
      "source": [
        "pyClient(\"select * from cd.facilities where facid in (1,5)\")"
      ],
      "metadata": {
        "colab": {
          "base_uri": "https://localhost:8080/",
          "height": 112
        },
        "id": "u6dtwxY-O8R0",
        "outputId": "d1df05fb-cb11-416b-ff56-3875ba681eb0"
      },
      "execution_count": 27,
      "outputs": [
        {
          "output_type": "execute_result",
          "data": {
            "text/plain": [
              "<pandas.io.formats.style.Styler at 0x7f6ec6c985d0>"
            ],
            "text/html": [
              "<style type=\"text/css\">\n",
              "</style>\n",
              "<table id=\"T_2ca6a\" class=\"dataframe\">\n",
              "  <thead>\n",
              "    <tr>\n",
              "      <th id=\"T_2ca6a_level0_col0\" class=\"col_heading level0 col0\" >facid</th>\n",
              "      <th id=\"T_2ca6a_level0_col1\" class=\"col_heading level0 col1\" >name</th>\n",
              "      <th id=\"T_2ca6a_level0_col2\" class=\"col_heading level0 col2\" >membercost</th>\n",
              "      <th id=\"T_2ca6a_level0_col3\" class=\"col_heading level0 col3\" >guestcost</th>\n",
              "      <th id=\"T_2ca6a_level0_col4\" class=\"col_heading level0 col4\" >initialoutlay</th>\n",
              "      <th id=\"T_2ca6a_level0_col5\" class=\"col_heading level0 col5\" >monthlymaintenance</th>\n",
              "    </tr>\n",
              "  </thead>\n",
              "  <tbody>\n",
              "    <tr>\n",
              "      <td id=\"T_2ca6a_row0_col0\" class=\"data row0 col0\" >1</td>\n",
              "      <td id=\"T_2ca6a_row0_col1\" class=\"data row0 col1\" >Tennis Court 2</td>\n",
              "      <td id=\"T_2ca6a_row0_col2\" class=\"data row0 col2\" >5</td>\n",
              "      <td id=\"T_2ca6a_row0_col3\" class=\"data row0 col3\" >25</td>\n",
              "      <td id=\"T_2ca6a_row0_col4\" class=\"data row0 col4\" >8000</td>\n",
              "      <td id=\"T_2ca6a_row0_col5\" class=\"data row0 col5\" >200</td>\n",
              "    </tr>\n",
              "    <tr>\n",
              "      <td id=\"T_2ca6a_row1_col0\" class=\"data row1 col0\" >5</td>\n",
              "      <td id=\"T_2ca6a_row1_col1\" class=\"data row1 col1\" >Massage Room 2</td>\n",
              "      <td id=\"T_2ca6a_row1_col2\" class=\"data row1 col2\" >35</td>\n",
              "      <td id=\"T_2ca6a_row1_col3\" class=\"data row1 col3\" >80</td>\n",
              "      <td id=\"T_2ca6a_row1_col4\" class=\"data row1 col4\" >4000</td>\n",
              "      <td id=\"T_2ca6a_row1_col5\" class=\"data row1 col5\" >3000</td>\n",
              "    </tr>\n",
              "  </tbody>\n",
              "</table>\n"
            ]
          },
          "metadata": {},
          "execution_count": 27
        }
      ]
    },
    {
      "cell_type": "markdown",
      "source": [
        "1.7 Classify results into buckets"
      ],
      "metadata": {
        "id": "hOJuSODjP2Lc"
      }
    },
    {
      "cell_type": "code",
      "source": [
        "pyClient(\"select name, case when (monthlymaintenance > 100) then 'expensive' else 'cheap' end as cost from cd.facilities\")"
      ],
      "metadata": {
        "id": "gfwfIMVTP3T4",
        "outputId": "4521cbf8-961a-4cb4-d1c9-296fe0dba973",
        "colab": {
          "base_uri": "https://localhost:8080/",
          "height": 426
        }
      },
      "execution_count": 28,
      "outputs": [
        {
          "output_type": "execute_result",
          "data": {
            "text/plain": [
              "<pandas.io.formats.style.Styler at 0x7f6ec6c76390>"
            ],
            "text/html": [
              "<style type=\"text/css\">\n",
              "</style>\n",
              "<table id=\"T_3aab9\" class=\"dataframe\">\n",
              "  <thead>\n",
              "    <tr>\n",
              "      <th id=\"T_3aab9_level0_col0\" class=\"col_heading level0 col0\" >name</th>\n",
              "      <th id=\"T_3aab9_level0_col1\" class=\"col_heading level0 col1\" >cost</th>\n",
              "    </tr>\n",
              "  </thead>\n",
              "  <tbody>\n",
              "    <tr>\n",
              "      <td id=\"T_3aab9_row0_col0\" class=\"data row0 col0\" >Tennis Court 1</td>\n",
              "      <td id=\"T_3aab9_row0_col1\" class=\"data row0 col1\" >expensive</td>\n",
              "    </tr>\n",
              "    <tr>\n",
              "      <td id=\"T_3aab9_row1_col0\" class=\"data row1 col0\" >Tennis Court 2</td>\n",
              "      <td id=\"T_3aab9_row1_col1\" class=\"data row1 col1\" >expensive</td>\n",
              "    </tr>\n",
              "    <tr>\n",
              "      <td id=\"T_3aab9_row2_col0\" class=\"data row2 col0\" >Badminton Court</td>\n",
              "      <td id=\"T_3aab9_row2_col1\" class=\"data row2 col1\" >cheap</td>\n",
              "    </tr>\n",
              "    <tr>\n",
              "      <td id=\"T_3aab9_row3_col0\" class=\"data row3 col0\" >Table Tennis</td>\n",
              "      <td id=\"T_3aab9_row3_col1\" class=\"data row3 col1\" >cheap</td>\n",
              "    </tr>\n",
              "    <tr>\n",
              "      <td id=\"T_3aab9_row4_col0\" class=\"data row4 col0\" >Massage Room 1</td>\n",
              "      <td id=\"T_3aab9_row4_col1\" class=\"data row4 col1\" >expensive</td>\n",
              "    </tr>\n",
              "    <tr>\n",
              "      <td id=\"T_3aab9_row5_col0\" class=\"data row5 col0\" >Massage Room 2</td>\n",
              "      <td id=\"T_3aab9_row5_col1\" class=\"data row5 col1\" >expensive</td>\n",
              "    </tr>\n",
              "    <tr>\n",
              "      <td id=\"T_3aab9_row6_col0\" class=\"data row6 col0\" >Squash Court</td>\n",
              "      <td id=\"T_3aab9_row6_col1\" class=\"data row6 col1\" >cheap</td>\n",
              "    </tr>\n",
              "    <tr>\n",
              "      <td id=\"T_3aab9_row7_col0\" class=\"data row7 col0\" >Snooker Table</td>\n",
              "      <td id=\"T_3aab9_row7_col1\" class=\"data row7 col1\" >cheap</td>\n",
              "    </tr>\n",
              "    <tr>\n",
              "      <td id=\"T_3aab9_row8_col0\" class=\"data row8 col0\" >Pool Table</td>\n",
              "      <td id=\"T_3aab9_row8_col1\" class=\"data row8 col1\" >cheap</td>\n",
              "    </tr>\n",
              "    <tr>\n",
              "      <td id=\"T_3aab9_row9_col0\" class=\"data row9 col0\" >Spa</td>\n",
              "      <td id=\"T_3aab9_row9_col1\" class=\"data row9 col1\" >expensive</td>\n",
              "    </tr>\n",
              "    <tr>\n",
              "      <td id=\"T_3aab9_row10_col0\" class=\"data row10 col0\" >Spa</td>\n",
              "      <td id=\"T_3aab9_row10_col1\" class=\"data row10 col1\" >expensive</td>\n",
              "    </tr>\n",
              "    <tr>\n",
              "      <td id=\"T_3aab9_row11_col0\" class=\"data row11 col0\" >Squash Court 2</td>\n",
              "      <td id=\"T_3aab9_row11_col1\" class=\"data row11 col1\" >cheap</td>\n",
              "    </tr>\n",
              "  </tbody>\n",
              "</table>\n"
            ]
          },
          "metadata": {},
          "execution_count": 28
        }
      ]
    },
    {
      "cell_type": "markdown",
      "source": [
        "1.8 Working with dates"
      ],
      "metadata": {
        "id": "IAEDA6J3R1hA"
      }
    },
    {
      "cell_type": "code",
      "source": [
        "pyClient(\"select memid, surname, firstname, joindate from cd.members where joindate>'2012-09-01'\")"
      ],
      "metadata": {
        "id": "1RU_OyPwRncS",
        "outputId": "2b850595-eb0e-452e-b079-a096bd5832bb",
        "colab": {
          "base_uri": "https://localhost:8080/",
          "height": 363
        }
      },
      "execution_count": 29,
      "outputs": [
        {
          "output_type": "execute_result",
          "data": {
            "text/plain": [
              "<pandas.io.formats.style.Styler at 0x7f6ec7043ed0>"
            ],
            "text/html": [
              "<style type=\"text/css\">\n",
              "</style>\n",
              "<table id=\"T_6dbe2\" class=\"dataframe\">\n",
              "  <thead>\n",
              "    <tr>\n",
              "      <th id=\"T_6dbe2_level0_col0\" class=\"col_heading level0 col0\" >memid</th>\n",
              "      <th id=\"T_6dbe2_level0_col1\" class=\"col_heading level0 col1\" >surname</th>\n",
              "      <th id=\"T_6dbe2_level0_col2\" class=\"col_heading level0 col2\" >firstname</th>\n",
              "      <th id=\"T_6dbe2_level0_col3\" class=\"col_heading level0 col3\" >joindate</th>\n",
              "    </tr>\n",
              "  </thead>\n",
              "  <tbody>\n",
              "    <tr>\n",
              "      <td id=\"T_6dbe2_row0_col0\" class=\"data row0 col0\" >24</td>\n",
              "      <td id=\"T_6dbe2_row0_col1\" class=\"data row0 col1\" >Sarwin</td>\n",
              "      <td id=\"T_6dbe2_row0_col2\" class=\"data row0 col2\" >Ramnaresh</td>\n",
              "      <td id=\"T_6dbe2_row0_col3\" class=\"data row0 col3\" >2012-09-01 08:44:42</td>\n",
              "    </tr>\n",
              "    <tr>\n",
              "      <td id=\"T_6dbe2_row1_col0\" class=\"data row1 col0\" >26</td>\n",
              "      <td id=\"T_6dbe2_row1_col1\" class=\"data row1 col1\" >Jones</td>\n",
              "      <td id=\"T_6dbe2_row1_col2\" class=\"data row1 col2\" >Douglas</td>\n",
              "      <td id=\"T_6dbe2_row1_col3\" class=\"data row1 col3\" >2012-09-02 18:43:05</td>\n",
              "    </tr>\n",
              "    <tr>\n",
              "      <td id=\"T_6dbe2_row2_col0\" class=\"data row2 col0\" >27</td>\n",
              "      <td id=\"T_6dbe2_row2_col1\" class=\"data row2 col1\" >Rumney</td>\n",
              "      <td id=\"T_6dbe2_row2_col2\" class=\"data row2 col2\" >Henrietta</td>\n",
              "      <td id=\"T_6dbe2_row2_col3\" class=\"data row2 col3\" >2012-09-05 08:42:35</td>\n",
              "    </tr>\n",
              "    <tr>\n",
              "      <td id=\"T_6dbe2_row3_col0\" class=\"data row3 col0\" >28</td>\n",
              "      <td id=\"T_6dbe2_row3_col1\" class=\"data row3 col1\" >Farrell</td>\n",
              "      <td id=\"T_6dbe2_row3_col2\" class=\"data row3 col2\" >David</td>\n",
              "      <td id=\"T_6dbe2_row3_col3\" class=\"data row3 col3\" >2012-09-15 08:22:05</td>\n",
              "    </tr>\n",
              "    <tr>\n",
              "      <td id=\"T_6dbe2_row4_col0\" class=\"data row4 col0\" >29</td>\n",
              "      <td id=\"T_6dbe2_row4_col1\" class=\"data row4 col1\" >Worthington-Smyth</td>\n",
              "      <td id=\"T_6dbe2_row4_col2\" class=\"data row4 col2\" >Henry</td>\n",
              "      <td id=\"T_6dbe2_row4_col3\" class=\"data row4 col3\" >2012-09-17 12:27:15</td>\n",
              "    </tr>\n",
              "    <tr>\n",
              "      <td id=\"T_6dbe2_row5_col0\" class=\"data row5 col0\" >30</td>\n",
              "      <td id=\"T_6dbe2_row5_col1\" class=\"data row5 col1\" >Purview</td>\n",
              "      <td id=\"T_6dbe2_row5_col2\" class=\"data row5 col2\" >Millicent</td>\n",
              "      <td id=\"T_6dbe2_row5_col3\" class=\"data row5 col3\" >2012-09-18 19:04:01</td>\n",
              "    </tr>\n",
              "    <tr>\n",
              "      <td id=\"T_6dbe2_row6_col0\" class=\"data row6 col0\" >33</td>\n",
              "      <td id=\"T_6dbe2_row6_col1\" class=\"data row6 col1\" >Tupperware</td>\n",
              "      <td id=\"T_6dbe2_row6_col2\" class=\"data row6 col2\" >Hyacinth</td>\n",
              "      <td id=\"T_6dbe2_row6_col3\" class=\"data row6 col3\" >2012-09-18 19:32:05</td>\n",
              "    </tr>\n",
              "    <tr>\n",
              "      <td id=\"T_6dbe2_row7_col0\" class=\"data row7 col0\" >35</td>\n",
              "      <td id=\"T_6dbe2_row7_col1\" class=\"data row7 col1\" >Hunt</td>\n",
              "      <td id=\"T_6dbe2_row7_col2\" class=\"data row7 col2\" >John</td>\n",
              "      <td id=\"T_6dbe2_row7_col3\" class=\"data row7 col3\" >2012-09-19 11:32:45</td>\n",
              "    </tr>\n",
              "    <tr>\n",
              "      <td id=\"T_6dbe2_row8_col0\" class=\"data row8 col0\" >36</td>\n",
              "      <td id=\"T_6dbe2_row8_col1\" class=\"data row8 col1\" >Crumpet</td>\n",
              "      <td id=\"T_6dbe2_row8_col2\" class=\"data row8 col2\" >Erica</td>\n",
              "      <td id=\"T_6dbe2_row8_col3\" class=\"data row8 col3\" >2012-09-22 08:36:38</td>\n",
              "    </tr>\n",
              "    <tr>\n",
              "      <td id=\"T_6dbe2_row9_col0\" class=\"data row9 col0\" >37</td>\n",
              "      <td id=\"T_6dbe2_row9_col1\" class=\"data row9 col1\" >Smith</td>\n",
              "      <td id=\"T_6dbe2_row9_col2\" class=\"data row9 col2\" >Darren</td>\n",
              "      <td id=\"T_6dbe2_row9_col3\" class=\"data row9 col3\" >2012-09-26 18:08:45</td>\n",
              "    </tr>\n",
              "  </tbody>\n",
              "</table>\n"
            ]
          },
          "metadata": {},
          "execution_count": 29
        }
      ]
    },
    {
      "cell_type": "markdown",
      "source": [
        "1.9 Removing duplicates, and ordering results"
      ],
      "metadata": {
        "id": "QVD2Q4j4VLo-"
      }
    },
    {
      "cell_type": "code",
      "source": [
        "pyClient(\"select distinct surname from cd.members order by surname limit 10\")"
      ],
      "metadata": {
        "id": "uOW2InajShrS",
        "outputId": "cb7f46bb-8c33-475e-82e8-ce99923a5dcb",
        "colab": {
          "base_uri": "https://localhost:8080/",
          "height": 363
        }
      },
      "execution_count": 32,
      "outputs": [
        {
          "output_type": "execute_result",
          "data": {
            "text/plain": [
              "<pandas.io.formats.style.Styler at 0x7f6ec6b34710>"
            ],
            "text/html": [
              "<style type=\"text/css\">\n",
              "</style>\n",
              "<table id=\"T_9c405\" class=\"dataframe\">\n",
              "  <thead>\n",
              "    <tr>\n",
              "      <th id=\"T_9c405_level0_col0\" class=\"col_heading level0 col0\" >surname</th>\n",
              "    </tr>\n",
              "  </thead>\n",
              "  <tbody>\n",
              "    <tr>\n",
              "      <td id=\"T_9c405_row0_col0\" class=\"data row0 col0\" >Bader</td>\n",
              "    </tr>\n",
              "    <tr>\n",
              "      <td id=\"T_9c405_row1_col0\" class=\"data row1 col0\" >Baker</td>\n",
              "    </tr>\n",
              "    <tr>\n",
              "      <td id=\"T_9c405_row2_col0\" class=\"data row2 col0\" >Boothe</td>\n",
              "    </tr>\n",
              "    <tr>\n",
              "      <td id=\"T_9c405_row3_col0\" class=\"data row3 col0\" >Butters</td>\n",
              "    </tr>\n",
              "    <tr>\n",
              "      <td id=\"T_9c405_row4_col0\" class=\"data row4 col0\" >Coplin</td>\n",
              "    </tr>\n",
              "    <tr>\n",
              "      <td id=\"T_9c405_row5_col0\" class=\"data row5 col0\" >Crumpet</td>\n",
              "    </tr>\n",
              "    <tr>\n",
              "      <td id=\"T_9c405_row6_col0\" class=\"data row6 col0\" >Dare</td>\n",
              "    </tr>\n",
              "    <tr>\n",
              "      <td id=\"T_9c405_row7_col0\" class=\"data row7 col0\" >Farrell</td>\n",
              "    </tr>\n",
              "    <tr>\n",
              "      <td id=\"T_9c405_row8_col0\" class=\"data row8 col0\" >Genting</td>\n",
              "    </tr>\n",
              "    <tr>\n",
              "      <td id=\"T_9c405_row9_col0\" class=\"data row9 col0\" >GUEST</td>\n",
              "    </tr>\n",
              "  </tbody>\n",
              "</table>\n"
            ]
          },
          "metadata": {},
          "execution_count": 32
        }
      ]
    },
    {
      "cell_type": "markdown",
      "source": [
        "1.10 Combining results from multiple queries"
      ],
      "metadata": {
        "id": "FaojkvDBVlP5"
      }
    },
    {
      "cell_type": "code",
      "source": [
        "pyClient(\"select surname from cd.members union select name from cd.facilities\")"
      ],
      "metadata": {
        "id": "yjt0GdN8Vk1y",
        "outputId": "8cfd70a4-6629-4f21-b21a-6bcaf7d48e03",
        "colab": {
          "base_uri": "https://localhost:8080/",
          "height": 1000
        }
      },
      "execution_count": 35,
      "outputs": [
        {
          "output_type": "execute_result",
          "data": {
            "text/plain": [
              "<pandas.io.formats.style.Styler at 0x7f6ec600c090>"
            ],
            "text/html": [
              "<style type=\"text/css\">\n",
              "</style>\n",
              "<table id=\"T_4e73e\" class=\"dataframe\">\n",
              "  <thead>\n",
              "    <tr>\n",
              "      <th id=\"T_4e73e_level0_col0\" class=\"col_heading level0 col0\" >surname</th>\n",
              "    </tr>\n",
              "  </thead>\n",
              "  <tbody>\n",
              "    <tr>\n",
              "      <td id=\"T_4e73e_row0_col0\" class=\"data row0 col0\" >Hunt</td>\n",
              "    </tr>\n",
              "    <tr>\n",
              "      <td id=\"T_4e73e_row1_col0\" class=\"data row1 col0\" >Farrell</td>\n",
              "    </tr>\n",
              "    <tr>\n",
              "      <td id=\"T_4e73e_row2_col0\" class=\"data row2 col0\" >Tennis Court 2</td>\n",
              "    </tr>\n",
              "    <tr>\n",
              "      <td id=\"T_4e73e_row3_col0\" class=\"data row3 col0\" >Table Tennis</td>\n",
              "    </tr>\n",
              "    <tr>\n",
              "      <td id=\"T_4e73e_row4_col0\" class=\"data row4 col0\" >Dare</td>\n",
              "    </tr>\n",
              "    <tr>\n",
              "      <td id=\"T_4e73e_row5_col0\" class=\"data row5 col0\" >Rownam</td>\n",
              "    </tr>\n",
              "    <tr>\n",
              "      <td id=\"T_4e73e_row6_col0\" class=\"data row6 col0\" >GUEST</td>\n",
              "    </tr>\n",
              "    <tr>\n",
              "      <td id=\"T_4e73e_row7_col0\" class=\"data row7 col0\" >Badminton Court</td>\n",
              "    </tr>\n",
              "    <tr>\n",
              "      <td id=\"T_4e73e_row8_col0\" class=\"data row8 col0\" >Smith</td>\n",
              "    </tr>\n",
              "    <tr>\n",
              "      <td id=\"T_4e73e_row9_col0\" class=\"data row9 col0\" >Tupperware</td>\n",
              "    </tr>\n",
              "    <tr>\n",
              "      <td id=\"T_4e73e_row10_col0\" class=\"data row10 col0\" >Owen</td>\n",
              "    </tr>\n",
              "    <tr>\n",
              "      <td id=\"T_4e73e_row11_col0\" class=\"data row11 col0\" >Worthington-Smyth</td>\n",
              "    </tr>\n",
              "    <tr>\n",
              "      <td id=\"T_4e73e_row12_col0\" class=\"data row12 col0\" >Butters</td>\n",
              "    </tr>\n",
              "    <tr>\n",
              "      <td id=\"T_4e73e_row13_col0\" class=\"data row13 col0\" >Rumney</td>\n",
              "    </tr>\n",
              "    <tr>\n",
              "      <td id=\"T_4e73e_row14_col0\" class=\"data row14 col0\" >Tracy</td>\n",
              "    </tr>\n",
              "    <tr>\n",
              "      <td id=\"T_4e73e_row15_col0\" class=\"data row15 col0\" >Crumpet</td>\n",
              "    </tr>\n",
              "    <tr>\n",
              "      <td id=\"T_4e73e_row16_col0\" class=\"data row16 col0\" >Purview</td>\n",
              "    </tr>\n",
              "    <tr>\n",
              "      <td id=\"T_4e73e_row17_col0\" class=\"data row17 col0\" >Massage Room 2</td>\n",
              "    </tr>\n",
              "    <tr>\n",
              "      <td id=\"T_4e73e_row18_col0\" class=\"data row18 col0\" >Sarwin</td>\n",
              "    </tr>\n",
              "    <tr>\n",
              "      <td id=\"T_4e73e_row19_col0\" class=\"data row19 col0\" >Baker</td>\n",
              "    </tr>\n",
              "    <tr>\n",
              "      <td id=\"T_4e73e_row20_col0\" class=\"data row20 col0\" >Pool Table</td>\n",
              "    </tr>\n",
              "    <tr>\n",
              "      <td id=\"T_4e73e_row21_col0\" class=\"data row21 col0\" >Spa</td>\n",
              "    </tr>\n",
              "    <tr>\n",
              "      <td id=\"T_4e73e_row22_col0\" class=\"data row22 col0\" >Snooker Table</td>\n",
              "    </tr>\n",
              "    <tr>\n",
              "      <td id=\"T_4e73e_row23_col0\" class=\"data row23 col0\" >Jones</td>\n",
              "    </tr>\n",
              "    <tr>\n",
              "      <td id=\"T_4e73e_row24_col0\" class=\"data row24 col0\" >Coplin</td>\n",
              "    </tr>\n",
              "    <tr>\n",
              "      <td id=\"T_4e73e_row25_col0\" class=\"data row25 col0\" >Mackenzie</td>\n",
              "    </tr>\n",
              "    <tr>\n",
              "      <td id=\"T_4e73e_row26_col0\" class=\"data row26 col0\" >Boothe</td>\n",
              "    </tr>\n",
              "    <tr>\n",
              "      <td id=\"T_4e73e_row27_col0\" class=\"data row27 col0\" >Joplette</td>\n",
              "    </tr>\n",
              "    <tr>\n",
              "      <td id=\"T_4e73e_row28_col0\" class=\"data row28 col0\" >Stibbons</td>\n",
              "    </tr>\n",
              "    <tr>\n",
              "      <td id=\"T_4e73e_row29_col0\" class=\"data row29 col0\" >Squash Court</td>\n",
              "    </tr>\n",
              "    <tr>\n",
              "      <td id=\"T_4e73e_row30_col0\" class=\"data row30 col0\" >Tennis Court 1</td>\n",
              "    </tr>\n",
              "    <tr>\n",
              "      <td id=\"T_4e73e_row31_col0\" class=\"data row31 col0\" >Pinker</td>\n",
              "    </tr>\n",
              "    <tr>\n",
              "      <td id=\"T_4e73e_row32_col0\" class=\"data row32 col0\" >Squash Court 2</td>\n",
              "    </tr>\n",
              "    <tr>\n",
              "      <td id=\"T_4e73e_row33_col0\" class=\"data row33 col0\" >Genting</td>\n",
              "    </tr>\n",
              "    <tr>\n",
              "      <td id=\"T_4e73e_row34_col0\" class=\"data row34 col0\" >Bader</td>\n",
              "    </tr>\n",
              "    <tr>\n",
              "      <td id=\"T_4e73e_row35_col0\" class=\"data row35 col0\" >Massage Room 1</td>\n",
              "    </tr>\n",
              "  </tbody>\n",
              "</table>\n"
            ]
          },
          "metadata": {},
          "execution_count": 35
        }
      ]
    },
    {
      "cell_type": "markdown",
      "source": [
        "1.11 Simple aggregation"
      ],
      "metadata": {
        "id": "y3TgjdGmipnC"
      }
    },
    {
      "cell_type": "code",
      "source": [
        "pyClient(\"select joindate from cd.members order by joindate desc limit 1\")"
      ],
      "metadata": {
        "id": "OynF6fqfhy2U",
        "outputId": "1e11f0bc-3884-48ec-f15a-993290f73bc6",
        "colab": {
          "base_uri": "https://localhost:8080/",
          "height": 81
        }
      },
      "execution_count": 36,
      "outputs": [
        {
          "output_type": "execute_result",
          "data": {
            "text/plain": [
              "<pandas.io.formats.style.Styler at 0x7f6ee8ff1d50>"
            ],
            "text/html": [
              "<style type=\"text/css\">\n",
              "</style>\n",
              "<table id=\"T_4b7cc\" class=\"dataframe\">\n",
              "  <thead>\n",
              "    <tr>\n",
              "      <th id=\"T_4b7cc_level0_col0\" class=\"col_heading level0 col0\" >joindate</th>\n",
              "    </tr>\n",
              "  </thead>\n",
              "  <tbody>\n",
              "    <tr>\n",
              "      <td id=\"T_4b7cc_row0_col0\" class=\"data row0 col0\" >2012-09-26 18:08:45</td>\n",
              "    </tr>\n",
              "  </tbody>\n",
              "</table>\n"
            ]
          },
          "metadata": {},
          "execution_count": 36
        }
      ]
    },
    {
      "cell_type": "markdown",
      "source": [
        "1.12 More aggregation"
      ],
      "metadata": {
        "id": "E2lkHVYIirnK"
      }
    },
    {
      "cell_type": "code",
      "source": [
        "pyClient(\"select firstname, surname, joindate from cd.members where joindate=(select max(joindate) from cd.members)\")"
      ],
      "metadata": {
        "id": "GvIn7wlaiwgb",
        "outputId": "5ad91f06-c2f8-4e72-94ae-cb78c4c4363a",
        "colab": {
          "base_uri": "https://localhost:8080/",
          "height": 81
        }
      },
      "execution_count": 37,
      "outputs": [
        {
          "output_type": "execute_result",
          "data": {
            "text/plain": [
              "<pandas.io.formats.style.Styler at 0x7f6ec6c9b810>"
            ],
            "text/html": [
              "<style type=\"text/css\">\n",
              "</style>\n",
              "<table id=\"T_64ea9\" class=\"dataframe\">\n",
              "  <thead>\n",
              "    <tr>\n",
              "      <th id=\"T_64ea9_level0_col0\" class=\"col_heading level0 col0\" >firstname</th>\n",
              "      <th id=\"T_64ea9_level0_col1\" class=\"col_heading level0 col1\" >surname</th>\n",
              "      <th id=\"T_64ea9_level0_col2\" class=\"col_heading level0 col2\" >joindate</th>\n",
              "    </tr>\n",
              "  </thead>\n",
              "  <tbody>\n",
              "    <tr>\n",
              "      <td id=\"T_64ea9_row0_col0\" class=\"data row0 col0\" >Darren</td>\n",
              "      <td id=\"T_64ea9_row0_col1\" class=\"data row0 col1\" >Smith</td>\n",
              "      <td id=\"T_64ea9_row0_col2\" class=\"data row0 col2\" >2012-09-26 18:08:45</td>\n",
              "    </tr>\n",
              "  </tbody>\n",
              "</table>\n"
            ]
          },
          "metadata": {},
          "execution_count": 37
        }
      ]
    },
    {
      "cell_type": "markdown",
      "source": [
        "**2 Joins and Subqueries**"
      ],
      "metadata": {
        "id": "-YXsAIUwjE6N"
      }
    },
    {
      "cell_type": "markdown",
      "source": [
        "2.1"
      ],
      "metadata": {
        "id": "bZeRv972jOpO"
      }
    },
    {
      "cell_type": "code",
      "source": [],
      "metadata": {
        "id": "ustT0cfnjEfN"
      },
      "execution_count": null,
      "outputs": []
    }
  ]
}