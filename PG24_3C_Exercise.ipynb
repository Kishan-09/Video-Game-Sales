{
  "nbformat": 4,
  "nbformat_minor": 0,
  "metadata": {
    "colab": {
      "provenance": [],
      "include_colab_link": true
    },
    "kernelspec": {
      "name": "python3",
      "display_name": "Python 3"
    },
    "language_info": {
      "name": "python"
    }
  },
  "cells": [
    {
      "cell_type": "markdown",
      "metadata": {
        "id": "view-in-github",
        "colab_type": "text"
      },
      "source": [
        "<a href=\"https://colab.research.google.com/github/Kishan-09/Video-Game-Sales/blob/main/PG24_3C_Exercise.ipynb\" target=\"_parent\"><img src=\"https://colab.research.google.com/assets/colab-badge.svg\" alt=\"Open In Colab\"/></a>"
      ]
    },
    {
      "cell_type": "markdown",
      "source": [
        "![Yantrajaal Banner](https://github.com/Praxis-QR/RDWH/raw/main/images/YantraJaalBanner.png)<br>\n",
        "\n",
        "\n",
        "<hr>\n",
        "\n",
        "[Prithwis Mukerjee](http://www.linkedin.com/in/prithwis)<br>"
      ],
      "metadata": {
        "id": "DBzz-qaN2tKu"
      }
    },
    {
      "cell_type": "markdown",
      "source": [
        "#Postgres Exercises\n",
        "https://pgexercises.com/ <br>\n",
        "https://pgexercises.com/gettingstarted.html"
      ],
      "metadata": {
        "id": "QIfgaOrxZ39z"
      }
    },
    {
      "cell_type": "code",
      "source": [
        "from datetime import datetime\n",
        "import pytz\n",
        "print('ॐ श्री सरस्वत्यै नमः',datetime.now(pytz.timezone('Asia/Calcutta')))\n",
        "!python --version\n",
        "!lsb_release -a"
      ],
      "metadata": {
        "id": "txwvst5Hs5mI",
        "outputId": "177d2500-f08e-47f5-9e6f-2b8a293f785d",
        "colab": {
          "base_uri": "https://localhost:8080/"
        }
      },
      "execution_count": 1,
      "outputs": [
        {
          "output_type": "stream",
          "name": "stdout",
          "text": [
            "ॐ श्री सरस्वत्यै नमः 2025-08-14 11:03:42.922768+05:30\n",
            "Python 3.11.13\n",
            "No LSB modules are available.\n",
            "Distributor ID:\tUbuntu\n",
            "Description:\tUbuntu 22.04.4 LTS\n",
            "Release:\t22.04\n",
            "Codename:\tjammy\n"
          ]
        }
      ]
    },
    {
      "cell_type": "markdown",
      "source": [
        "#Install & Configure Postgres"
      ],
      "metadata": {
        "id": "nD-QawLT6kDr"
      }
    },
    {
      "cell_type": "code",
      "source": [
        "# Install postgresql server\n",
        "\n",
        "!apt update > /dev/null\n",
        "!apt install postgresql > /dev/null\n",
        "#!sudo -u postgres psql -V\n",
        "!psql -V\n",
        "!service postgresql start"
      ],
      "metadata": {
        "colab": {
          "base_uri": "https://localhost:8080/"
        },
        "id": "o_RaqE0OOHP3",
        "outputId": "75a9a035-d2c6-4366-850f-4841cacdec47"
      },
      "execution_count": 2,
      "outputs": [
        {
          "output_type": "stream",
          "name": "stdout",
          "text": [
            "\n",
            "WARNING: apt does not have a stable CLI interface. Use with caution in scripts.\n",
            "\n",
            "W: Skipping acquire of configured file 'main/source/Sources' as repository 'https://r2u.stat.illinois.edu/ubuntu jammy InRelease' does not seem to provide it (sources.list entry misspelt?)\n",
            "\n",
            "WARNING: apt does not have a stable CLI interface. Use with caution in scripts.\n",
            "\n",
            "psql (PostgreSQL) 14.18 (Ubuntu 14.18-0ubuntu0.22.04.1)\n",
            " * Starting PostgreSQL 14 database server\n",
            "   ...done.\n"
          ]
        }
      ]
    },
    {
      "cell_type": "code",
      "source": [
        "#!pip install psycopg2\n",
        "import psycopg2\n",
        "import pandas as pd"
      ],
      "metadata": {
        "id": "Ol-251fprgOZ"
      },
      "execution_count": 3,
      "outputs": []
    },
    {
      "cell_type": "markdown",
      "source": [
        "#Create Schema, Tables and Insert Data"
      ],
      "metadata": {
        "id": "JP7hBhEaYzW8"
      }
    },
    {
      "cell_type": "code",
      "source": [
        "# Change the database superuser 'postgres' to a non-default value 'pass'\n",
        "!sudo -u postgres psql -U postgres -c \"ALTER USER postgres PASSWORD 'pass';\""
      ],
      "metadata": {
        "colab": {
          "base_uri": "https://localhost:8080/"
        },
        "id": "NWkT4jeeQXw2",
        "outputId": "ebe11e62-1345-4bfe-dc53-e4f937941d8b"
      },
      "execution_count": 4,
      "outputs": [
        {
          "output_type": "stream",
          "name": "stdout",
          "text": [
            "ALTER ROLE\n"
          ]
        }
      ]
    },
    {
      "cell_type": "code",
      "source": [
        "# Download and execute SQL file to create tables, load data\n",
        "#\n",
        "#!wget https://pgexercises.com/dbfiles/clubdata.sql\n",
        "!wget -q https://raw.githubusercontent.com/Praxis-QR/RDWH/main/data/clubdata.sql\n",
        "#Run the batch file to create tables, load data\n",
        "!psql -h localhost -U postgres -f clubdata.sql -d postgres -x -q\n"
      ],
      "metadata": {
        "id": "01kFB_EbXzKg",
        "colab": {
          "base_uri": "https://localhost:8080/"
        },
        "outputId": "f93f2c49-fb15-463b-ddb0-6acc499e3321"
      },
      "execution_count": 15,
      "outputs": [
        {
          "output_type": "stream",
          "name": "stdout",
          "text": [
            "Password for user postgres: \n"
          ]
        }
      ]
    },
    {
      "cell_type": "code",
      "source": [
        "# Create file to store the password. Else will be prompted each time\n",
        "#!echo \"localhost:5432:praxisdb:postgres:pass\" > ~/.pgpass\n",
        "!echo \"localhost:5432:exercises:postgres:pass\" > ~/.pgpass\n",
        "!chmod 0600 ~/.pgpass\n",
        "!cat ~/.pgpass"
      ],
      "metadata": {
        "colab": {
          "base_uri": "https://localhost:8080/"
        },
        "id": "jTtfpsn7P4ak",
        "outputId": "a2a5be60-6661-4f66-a7d1-451bfd521e58"
      },
      "execution_count": 16,
      "outputs": [
        {
          "output_type": "stream",
          "name": "stdout",
          "text": [
            "localhost:5432:exercises:postgres:pass\n"
          ]
        }
      ]
    },
    {
      "cell_type": "code",
      "source": [
        "#Note new database called exercises\n",
        "!psql -h localhost -p 5432 -Upostgres -c \"\\l\""
      ],
      "metadata": {
        "colab": {
          "base_uri": "https://localhost:8080/"
        },
        "id": "bjHFMAF_QhCD",
        "outputId": "9c7dca33-bded-4d4d-bdab-7aea37156413"
      },
      "execution_count": 17,
      "outputs": [
        {
          "output_type": "stream",
          "name": "stdout",
          "text": [
            "Password for user postgres: \n",
            "                                  List of databases\n",
            "   Name    |  Owner   | Encoding |   Collate   |    Ctype    |   Access privileges   \n",
            "-----------+----------+----------+-------------+-------------+-----------------------\n",
            " exercises | postgres | UTF8     | en_US.UTF-8 | en_US.UTF-8 | \n",
            " postgres  | postgres | UTF8     | en_US.UTF-8 | en_US.UTF-8 | \n",
            " template0 | postgres | UTF8     | en_US.UTF-8 | en_US.UTF-8 | =c/postgres          +\n",
            "           |          |          |             |             | postgres=CTc/postgres\n",
            " template1 | postgres | UTF8     | en_US.UTF-8 | en_US.UTF-8 | =c/postgres          +\n",
            "           |          |          |             |             | postgres=CTc/postgres\n",
            "(4 rows)\n",
            "\n"
          ]
        }
      ]
    },
    {
      "cell_type": "code",
      "source": [
        "#Note three tables under schema cd\n",
        "!psql -h localhost -p 5432 -Upostgres -d exercises -c \"\\dt+ cd.*\""
      ],
      "metadata": {
        "colab": {
          "base_uri": "https://localhost:8080/"
        },
        "id": "AieaKdT9Qr7Z",
        "outputId": "a3af595c-4962-49e4-d22d-2ca202bd16ff"
      },
      "execution_count": 18,
      "outputs": [
        {
          "output_type": "stream",
          "name": "stdout",
          "text": [
            "                                      List of relations\n",
            " Schema |    Name    | Type  |  Owner   | Persistence | Access method |  Size  | Description \n",
            "--------+------------+-------+----------+-------------+---------------+--------+-------------\n",
            " cd     | bookings   | table | postgres | permanent   | heap          | 264 kB | \n",
            " cd     | facilities | table | postgres | permanent   | heap          | 16 kB  | \n",
            " cd     | members    | table | postgres | permanent   | heap          | 16 kB  | \n",
            "(3 rows)\n",
            "\n"
          ]
        }
      ]
    },
    {
      "cell_type": "code",
      "source": [
        "#Note column / datatypes of all tables under schema cd\n",
        "!psql -h localhost -p 5432 -Upostgres -d exercises -c \"\\d cd.*\""
      ],
      "metadata": {
        "id": "wsRd3GkIDdGu",
        "outputId": "50aa0fe9-b90b-4a4f-b852-7858113ce0e2",
        "colab": {
          "base_uri": "https://localhost:8080/"
        }
      },
      "execution_count": 19,
      "outputs": [
        {
          "output_type": "stream",
          "name": "stdout",
          "text": [
            "                           Table \"cd.bookings\"\n",
            "  Column   |            Type             | Collation | Nullable | Default \n",
            "-----------+-----------------------------+-----------+----------+---------\n",
            " bookid    | integer                     |           | not null | \n",
            " facid     | integer                     |           | not null | \n",
            " memid     | integer                     |           | not null | \n",
            " starttime | timestamp without time zone |           | not null | \n",
            " slots     | integer                     |           | not null | \n",
            "Indexes:\n",
            "    \"bookings_pk\" PRIMARY KEY, btree (bookid)\n",
            "    \"bookings.facid_memid\" btree (facid, memid)\n",
            "    \"bookings.facid_starttime\" btree (facid, starttime)\n",
            "    \"bookings.memid_facid\" btree (memid, facid)\n",
            "    \"bookings.memid_starttime\" btree (memid, starttime)\n",
            "    \"bookings.starttime\" btree (starttime)\n",
            "Foreign-key constraints:\n",
            "    \"fk_bookings_facid\" FOREIGN KEY (facid) REFERENCES cd.facilities(facid)\n",
            "    \"fk_bookings_memid\" FOREIGN KEY (memid) REFERENCES cd.members(memid)\n",
            "\n",
            "   Index \"cd.bookings.facid_memid\"\n",
            " Column |  Type   | Key? | Definition \n",
            "--------+---------+------+------------\n",
            " facid  | integer | yes  | facid\n",
            " memid  | integer | yes  | memid\n",
            "btree, for table \"cd.bookings\"\n",
            "\n",
            "             Index \"cd.bookings.facid_starttime\"\n",
            "  Column   |            Type             | Key? | Definition \n",
            "-----------+-----------------------------+------+------------\n",
            " facid     | integer                     | yes  | facid\n",
            " starttime | timestamp without time zone | yes  | starttime\n",
            "btree, for table \"cd.bookings\"\n",
            "\n",
            "   Index \"cd.bookings.memid_facid\"\n",
            " Column |  Type   | Key? | Definition \n",
            "--------+---------+------+------------\n",
            " memid  | integer | yes  | memid\n",
            " facid  | integer | yes  | facid\n",
            "btree, for table \"cd.bookings\"\n",
            "\n",
            "             Index \"cd.bookings.memid_starttime\"\n",
            "  Column   |            Type             | Key? | Definition \n",
            "-----------+-----------------------------+------+------------\n",
            " memid     | integer                     | yes  | memid\n",
            " starttime | timestamp without time zone | yes  | starttime\n",
            "btree, for table \"cd.bookings\"\n",
            "\n",
            "                Index \"cd.bookings.starttime\"\n",
            "  Column   |            Type             | Key? | Definition \n",
            "-----------+-----------------------------+------+------------\n",
            " starttime | timestamp without time zone | yes  | starttime\n",
            "btree, for table \"cd.bookings\"\n",
            "\n",
            "        Index \"cd.bookings_pk\"\n",
            " Column |  Type   | Key? | Definition \n",
            "--------+---------+------+------------\n",
            " bookid | integer | yes  | bookid\n",
            "primary key, btree, for table \"cd.bookings\"\n",
            "\n",
            "                            Table \"cd.facilities\"\n",
            "       Column       |          Type          | Collation | Nullable | Default \n",
            "--------------------+------------------------+-----------+----------+---------\n",
            " facid              | integer                |           | not null | \n",
            " name               | character varying(100) |           | not null | \n",
            " membercost         | numeric                |           | not null | \n",
            " guestcost          | numeric                |           | not null | \n",
            " initialoutlay      | numeric                |           | not null | \n",
            " monthlymaintenance | numeric                |           | not null | \n",
            "Indexes:\n",
            "    \"facilities_pk\" PRIMARY KEY, btree (facid)\n",
            "Referenced by:\n",
            "    TABLE \"cd.bookings\" CONSTRAINT \"fk_bookings_facid\" FOREIGN KEY (facid) REFERENCES cd.facilities(facid)\n",
            "\n",
            "       Index \"cd.facilities_pk\"\n",
            " Column |  Type   | Key? | Definition \n",
            "--------+---------+------+------------\n",
            " facid  | integer | yes  | facid\n",
            "primary key, btree, for table \"cd.facilities\"\n",
            "\n",
            "                              Table \"cd.members\"\n",
            "    Column     |            Type             | Collation | Nullable | Default \n",
            "---------------+-----------------------------+-----------+----------+---------\n",
            " memid         | integer                     |           | not null | \n",
            " surname       | character varying(200)      |           | not null | \n",
            " firstname     | character varying(200)      |           | not null | \n",
            " address       | character varying(300)      |           | not null | \n",
            " zipcode       | integer                     |           | not null | \n",
            " telephone     | character varying(20)       |           | not null | \n",
            " recommendedby | integer                     |           |          | \n",
            " joindate      | timestamp without time zone |           | not null | \n",
            "Indexes:\n",
            "    \"members_pk\" PRIMARY KEY, btree (memid)\n",
            "    \"members.joindate\" btree (joindate)\n",
            "    \"members.recommendedby\" btree (recommendedby)\n",
            "Foreign-key constraints:\n",
            "    \"fk_members_recommendedby\" FOREIGN KEY (recommendedby) REFERENCES cd.members(memid) ON DELETE SET NULL\n",
            "Referenced by:\n",
            "    TABLE \"cd.bookings\" CONSTRAINT \"fk_bookings_memid\" FOREIGN KEY (memid) REFERENCES cd.members(memid)\n",
            "    TABLE \"cd.members\" CONSTRAINT \"fk_members_recommendedby\" FOREIGN KEY (recommendedby) REFERENCES cd.members(memid) ON DELETE SET NULL\n",
            "\n",
            "                Index \"cd.members.joindate\"\n",
            "  Column  |            Type             | Key? | Definition \n",
            "----------+-----------------------------+------+------------\n",
            " joindate | timestamp without time zone | yes  | joindate\n",
            "btree, for table \"cd.members\"\n",
            "\n",
            "        Index \"cd.members.recommendedby\"\n",
            "    Column     |  Type   | Key? |  Definition   \n",
            "---------------+---------+------+---------------\n",
            " recommendedby | integer | yes  | recommendedby\n",
            "btree, for table \"cd.members\"\n",
            "\n",
            "        Index \"cd.members_pk\"\n",
            " Column |  Type   | Key? | Definition \n",
            "--------+---------+------+------------\n",
            " memid  | integer | yes  | memid\n",
            "primary key, btree, for table \"cd.members\"\n",
            "\n"
          ]
        }
      ]
    },
    {
      "cell_type": "code",
      "source": [
        "#Note column / datatypes of all tables under schema cd\n",
        "!psql -h localhost -p 5432 -Upostgres -d exercises -c \"\\d cd.members\""
      ],
      "metadata": {
        "id": "dkbN50QrD6Fo",
        "outputId": "b6f84ded-e79e-4be8-8fd2-2bda1984d659",
        "colab": {
          "base_uri": "https://localhost:8080/"
        }
      },
      "execution_count": 20,
      "outputs": [
        {
          "output_type": "stream",
          "name": "stdout",
          "text": [
            "                              Table \"cd.members\"\n",
            "    Column     |            Type             | Collation | Nullable | Default \n",
            "---------------+-----------------------------+-----------+----------+---------\n",
            " memid         | integer                     |           | not null | \n",
            " surname       | character varying(200)      |           | not null | \n",
            " firstname     | character varying(200)      |           | not null | \n",
            " address       | character varying(300)      |           | not null | \n",
            " zipcode       | integer                     |           | not null | \n",
            " telephone     | character varying(20)       |           | not null | \n",
            " recommendedby | integer                     |           |          | \n",
            " joindate      | timestamp without time zone |           | not null | \n",
            "Indexes:\n",
            "    \"members_pk\" PRIMARY KEY, btree (memid)\n",
            "    \"members.joindate\" btree (joindate)\n",
            "    \"members.recommendedby\" btree (recommendedby)\n",
            "Foreign-key constraints:\n",
            "    \"fk_members_recommendedby\" FOREIGN KEY (recommendedby) REFERENCES cd.members(memid) ON DELETE SET NULL\n",
            "Referenced by:\n",
            "    TABLE \"cd.bookings\" CONSTRAINT \"fk_bookings_memid\" FOREIGN KEY (memid) REFERENCES cd.members(memid)\n",
            "    TABLE \"cd.members\" CONSTRAINT \"fk_members_recommendedby\" FOREIGN KEY (recommendedby) REFERENCES cd.members(memid) ON DELETE SET NULL\n",
            "\n"
          ]
        }
      ]
    },
    {
      "cell_type": "markdown",
      "source": [
        "## Python Access\n",
        "https://www.tutorialspoint.com/python_data_access/python_postgresql_database_connection.htm"
      ],
      "metadata": {
        "id": "faZEj8_7CeZ8"
      }
    },
    {
      "cell_type": "code",
      "source": [
        "# Local Colab server\n",
        "\n",
        "conn = psycopg2.connect(database=\"exercises\", user='postgres', password='pass', host='127.0.0.1', port= '5432')\n",
        "#Creating a cursor object using the cursor() method\n",
        "cursor = conn.cursor()\n",
        "#Executing an MYSQL function using the execute() method\n",
        "cursor.execute(\"select version()\")\n",
        "# Fetch a single row using fetchone() method.\n",
        "data = cursor.fetchone()\n",
        "print(\"Connection established to: \",data)\n",
        "#Closing the connection\n",
        "conn.close()"
      ],
      "metadata": {
        "id": "wcE-8UBnC4zV",
        "outputId": "372ca88c-2585-48e2-e899-3e6caf2f0c1f",
        "colab": {
          "base_uri": "https://localhost:8080/"
        }
      },
      "execution_count": 21,
      "outputs": [
        {
          "output_type": "stream",
          "name": "stdout",
          "text": [
            "Connection established to:  ('PostgreSQL 14.18 (Ubuntu 14.18-0ubuntu0.22.04.1) on x86_64-pc-linux-gnu, compiled by gcc (Ubuntu 11.4.0-1ubuntu1~22.04) 11.4.0, 64-bit',)\n"
          ]
        }
      ]
    },
    {
      "cell_type": "code",
      "source": [
        "# function to execute SQL select statements with Postgres\n",
        "#\n",
        "def runSelect(s):\n",
        "    #Set up connection\n",
        "\n",
        "    conn = psycopg2.connect(database=\"exercises\", user='postgres', password='pass', host='127.0.0.1', port= '5432')\n",
        "    #Setting auto commit true\n",
        "    conn.autocommit = True\n",
        "    #Creating a cursor object using the cursor() method\n",
        "    cursor = conn.cursor()\n",
        "    #Retrieving data\n",
        "    cursor.execute(s)\n",
        "    #Fetching all rows from the table\n",
        "    result = cursor.fetchall();\n",
        "    #print(len(result))\n",
        "    if (len(result)) > 0:                                       # result contains at least one row\n",
        "        colnames = [desc[0] for desc in cursor.description]     # get column names\n",
        "        #print(colnames)\n",
        "        resultdf = pd.DataFrame(result)                         # convert list to dataframe\n",
        "        resultdf.columns = colnames                             # add column names\n",
        "        #return resultdf\n",
        "        return resultdf.style.hide()                            # hide the index\n",
        "    else:\n",
        "        print('no records found')\n",
        "        return\n",
        "# function to execute SQL non-select statements with Postgres\n",
        "#\n",
        "def runCmd(s):\n",
        "    #Create Connection\n",
        "    conn = psycopg2.connect(database=\"exercises\", user='postgres', password='pass', host='127.0.0.1', port= '5432')\n",
        "    #Creating a cursor object using the cursor() method\n",
        "    cursor = conn.cursor()\n",
        "    try:\n",
        "        cursor.execute(s)\n",
        "        print('Command executed')\n",
        "        conn.commit()\n",
        "    except:\n",
        "        print('Command failed')\n",
        "    #Closing the connection\n",
        "    conn.close()"
      ],
      "metadata": {
        "id": "ht2k7-3iggNd"
      },
      "execution_count": 22,
      "outputs": []
    },
    {
      "cell_type": "code",
      "source": [
        "def pyClient(s):\n",
        "    if s.split(' ', 1)[0].lower() == 'select':      # If first word = select\n",
        "        df = runSelect(s)                           # then use runSelect()\n",
        "        return df                                   # return the pandas dataframe obtained from runSelect()\n",
        "    else:                                           # else\n",
        "        runCmd(s)                                   # use runCmd()"
      ],
      "metadata": {
        "id": "MA7ERVfqgeNi"
      },
      "execution_count": 23,
      "outputs": []
    },
    {
      "cell_type": "markdown",
      "source": [
        "##Check Data"
      ],
      "metadata": {
        "id": "RvTKboYtbSjZ"
      }
    },
    {
      "cell_type": "code",
      "source": [
        "#runSelect(\"select * from cd.members limit 3\")\n",
        "pyClient(\"select * from cd.members limit 3\")"
      ],
      "metadata": {
        "colab": {
          "base_uri": "https://localhost:8080/",
          "height": 143
        },
        "id": "ctq0ULCvVTsO",
        "outputId": "347e04c0-462a-480d-d822-8d92b09bd569"
      },
      "execution_count": 24,
      "outputs": [
        {
          "output_type": "execute_result",
          "data": {
            "text/plain": [
              "<pandas.io.formats.style.Styler at 0x7d3b8811c1d0>"
            ],
            "text/html": [
              "<style type=\"text/css\">\n",
              "</style>\n",
              "<table id=\"T_51ea5\" class=\"dataframe\">\n",
              "  <thead>\n",
              "    <tr>\n",
              "      <th id=\"T_51ea5_level0_col0\" class=\"col_heading level0 col0\" >memid</th>\n",
              "      <th id=\"T_51ea5_level0_col1\" class=\"col_heading level0 col1\" >surname</th>\n",
              "      <th id=\"T_51ea5_level0_col2\" class=\"col_heading level0 col2\" >firstname</th>\n",
              "      <th id=\"T_51ea5_level0_col3\" class=\"col_heading level0 col3\" >address</th>\n",
              "      <th id=\"T_51ea5_level0_col4\" class=\"col_heading level0 col4\" >zipcode</th>\n",
              "      <th id=\"T_51ea5_level0_col5\" class=\"col_heading level0 col5\" >telephone</th>\n",
              "      <th id=\"T_51ea5_level0_col6\" class=\"col_heading level0 col6\" >recommendedby</th>\n",
              "      <th id=\"T_51ea5_level0_col7\" class=\"col_heading level0 col7\" >joindate</th>\n",
              "    </tr>\n",
              "  </thead>\n",
              "  <tbody>\n",
              "    <tr>\n",
              "      <td id=\"T_51ea5_row0_col0\" class=\"data row0 col0\" >0</td>\n",
              "      <td id=\"T_51ea5_row0_col1\" class=\"data row0 col1\" >GUEST</td>\n",
              "      <td id=\"T_51ea5_row0_col2\" class=\"data row0 col2\" >GUEST</td>\n",
              "      <td id=\"T_51ea5_row0_col3\" class=\"data row0 col3\" >GUEST</td>\n",
              "      <td id=\"T_51ea5_row0_col4\" class=\"data row0 col4\" >0</td>\n",
              "      <td id=\"T_51ea5_row0_col5\" class=\"data row0 col5\" >(000) 000-0000</td>\n",
              "      <td id=\"T_51ea5_row0_col6\" class=\"data row0 col6\" >None</td>\n",
              "      <td id=\"T_51ea5_row0_col7\" class=\"data row0 col7\" >2012-07-01 00:00:00</td>\n",
              "    </tr>\n",
              "    <tr>\n",
              "      <td id=\"T_51ea5_row1_col0\" class=\"data row1 col0\" >1</td>\n",
              "      <td id=\"T_51ea5_row1_col1\" class=\"data row1 col1\" >Smith</td>\n",
              "      <td id=\"T_51ea5_row1_col2\" class=\"data row1 col2\" >Darren</td>\n",
              "      <td id=\"T_51ea5_row1_col3\" class=\"data row1 col3\" >8 Bloomsbury Close, Boston</td>\n",
              "      <td id=\"T_51ea5_row1_col4\" class=\"data row1 col4\" >4321</td>\n",
              "      <td id=\"T_51ea5_row1_col5\" class=\"data row1 col5\" >555-555-5555</td>\n",
              "      <td id=\"T_51ea5_row1_col6\" class=\"data row1 col6\" >None</td>\n",
              "      <td id=\"T_51ea5_row1_col7\" class=\"data row1 col7\" >2012-07-02 12:02:05</td>\n",
              "    </tr>\n",
              "    <tr>\n",
              "      <td id=\"T_51ea5_row2_col0\" class=\"data row2 col0\" >2</td>\n",
              "      <td id=\"T_51ea5_row2_col1\" class=\"data row2 col1\" >Smith</td>\n",
              "      <td id=\"T_51ea5_row2_col2\" class=\"data row2 col2\" >Tracy</td>\n",
              "      <td id=\"T_51ea5_row2_col3\" class=\"data row2 col3\" >8 Bloomsbury Close, New York</td>\n",
              "      <td id=\"T_51ea5_row2_col4\" class=\"data row2 col4\" >4321</td>\n",
              "      <td id=\"T_51ea5_row2_col5\" class=\"data row2 col5\" >555-555-5555</td>\n",
              "      <td id=\"T_51ea5_row2_col6\" class=\"data row2 col6\" >None</td>\n",
              "      <td id=\"T_51ea5_row2_col7\" class=\"data row2 col7\" >2012-07-02 12:08:23</td>\n",
              "    </tr>\n",
              "  </tbody>\n",
              "</table>\n"
            ]
          },
          "metadata": {},
          "execution_count": 24
        }
      ]
    },
    {
      "cell_type": "code",
      "source": [
        "#runSelect(\"select * from cd.facilities limit 3\")\n",
        "pyClient(\"select * from cd.facilities limit 3\")"
      ],
      "metadata": {
        "colab": {
          "base_uri": "https://localhost:8080/",
          "height": 143
        },
        "id": "Kz0e14SYXGqy",
        "outputId": "78bee556-a694-41f1-c268-29de32ff3a73"
      },
      "execution_count": 25,
      "outputs": [
        {
          "output_type": "execute_result",
          "data": {
            "text/plain": [
              "<pandas.io.formats.style.Styler at 0x7d3b66691ed0>"
            ],
            "text/html": [
              "<style type=\"text/css\">\n",
              "</style>\n",
              "<table id=\"T_2b846\" class=\"dataframe\">\n",
              "  <thead>\n",
              "    <tr>\n",
              "      <th id=\"T_2b846_level0_col0\" class=\"col_heading level0 col0\" >facid</th>\n",
              "      <th id=\"T_2b846_level0_col1\" class=\"col_heading level0 col1\" >name</th>\n",
              "      <th id=\"T_2b846_level0_col2\" class=\"col_heading level0 col2\" >membercost</th>\n",
              "      <th id=\"T_2b846_level0_col3\" class=\"col_heading level0 col3\" >guestcost</th>\n",
              "      <th id=\"T_2b846_level0_col4\" class=\"col_heading level0 col4\" >initialoutlay</th>\n",
              "      <th id=\"T_2b846_level0_col5\" class=\"col_heading level0 col5\" >monthlymaintenance</th>\n",
              "    </tr>\n",
              "  </thead>\n",
              "  <tbody>\n",
              "    <tr>\n",
              "      <td id=\"T_2b846_row0_col0\" class=\"data row0 col0\" >0</td>\n",
              "      <td id=\"T_2b846_row0_col1\" class=\"data row0 col1\" >Tennis Court 1</td>\n",
              "      <td id=\"T_2b846_row0_col2\" class=\"data row0 col2\" >5</td>\n",
              "      <td id=\"T_2b846_row0_col3\" class=\"data row0 col3\" >25</td>\n",
              "      <td id=\"T_2b846_row0_col4\" class=\"data row0 col4\" >10000</td>\n",
              "      <td id=\"T_2b846_row0_col5\" class=\"data row0 col5\" >200</td>\n",
              "    </tr>\n",
              "    <tr>\n",
              "      <td id=\"T_2b846_row1_col0\" class=\"data row1 col0\" >1</td>\n",
              "      <td id=\"T_2b846_row1_col1\" class=\"data row1 col1\" >Tennis Court 2</td>\n",
              "      <td id=\"T_2b846_row1_col2\" class=\"data row1 col2\" >5</td>\n",
              "      <td id=\"T_2b846_row1_col3\" class=\"data row1 col3\" >25</td>\n",
              "      <td id=\"T_2b846_row1_col4\" class=\"data row1 col4\" >8000</td>\n",
              "      <td id=\"T_2b846_row1_col5\" class=\"data row1 col5\" >200</td>\n",
              "    </tr>\n",
              "    <tr>\n",
              "      <td id=\"T_2b846_row2_col0\" class=\"data row2 col0\" >2</td>\n",
              "      <td id=\"T_2b846_row2_col1\" class=\"data row2 col1\" >Badminton Court</td>\n",
              "      <td id=\"T_2b846_row2_col2\" class=\"data row2 col2\" >0</td>\n",
              "      <td id=\"T_2b846_row2_col3\" class=\"data row2 col3\" >15.5</td>\n",
              "      <td id=\"T_2b846_row2_col4\" class=\"data row2 col4\" >4000</td>\n",
              "      <td id=\"T_2b846_row2_col5\" class=\"data row2 col5\" >50</td>\n",
              "    </tr>\n",
              "  </tbody>\n",
              "</table>\n"
            ]
          },
          "metadata": {},
          "execution_count": 25
        }
      ]
    },
    {
      "cell_type": "code",
      "source": [
        "#runSelect(\"select * from cd.bookings limit 3\")\n",
        "pyClient(\"select * from cd.bookings limit 3\")"
      ],
      "metadata": {
        "colab": {
          "base_uri": "https://localhost:8080/",
          "height": 143
        },
        "id": "ZFliVHZwYn_P",
        "outputId": "40cbee4a-ce96-4979-9e4c-1c94de507b0f"
      },
      "execution_count": 26,
      "outputs": [
        {
          "output_type": "execute_result",
          "data": {
            "text/plain": [
              "<pandas.io.formats.style.Styler at 0x7d3b66865f50>"
            ],
            "text/html": [
              "<style type=\"text/css\">\n",
              "</style>\n",
              "<table id=\"T_7aed0\" class=\"dataframe\">\n",
              "  <thead>\n",
              "    <tr>\n",
              "      <th id=\"T_7aed0_level0_col0\" class=\"col_heading level0 col0\" >bookid</th>\n",
              "      <th id=\"T_7aed0_level0_col1\" class=\"col_heading level0 col1\" >facid</th>\n",
              "      <th id=\"T_7aed0_level0_col2\" class=\"col_heading level0 col2\" >memid</th>\n",
              "      <th id=\"T_7aed0_level0_col3\" class=\"col_heading level0 col3\" >starttime</th>\n",
              "      <th id=\"T_7aed0_level0_col4\" class=\"col_heading level0 col4\" >slots</th>\n",
              "    </tr>\n",
              "  </thead>\n",
              "  <tbody>\n",
              "    <tr>\n",
              "      <td id=\"T_7aed0_row0_col0\" class=\"data row0 col0\" >0</td>\n",
              "      <td id=\"T_7aed0_row0_col1\" class=\"data row0 col1\" >3</td>\n",
              "      <td id=\"T_7aed0_row0_col2\" class=\"data row0 col2\" >1</td>\n",
              "      <td id=\"T_7aed0_row0_col3\" class=\"data row0 col3\" >2012-07-03 11:00:00</td>\n",
              "      <td id=\"T_7aed0_row0_col4\" class=\"data row0 col4\" >2</td>\n",
              "    </tr>\n",
              "    <tr>\n",
              "      <td id=\"T_7aed0_row1_col0\" class=\"data row1 col0\" >1</td>\n",
              "      <td id=\"T_7aed0_row1_col1\" class=\"data row1 col1\" >4</td>\n",
              "      <td id=\"T_7aed0_row1_col2\" class=\"data row1 col2\" >1</td>\n",
              "      <td id=\"T_7aed0_row1_col3\" class=\"data row1 col3\" >2012-07-03 08:00:00</td>\n",
              "      <td id=\"T_7aed0_row1_col4\" class=\"data row1 col4\" >2</td>\n",
              "    </tr>\n",
              "    <tr>\n",
              "      <td id=\"T_7aed0_row2_col0\" class=\"data row2 col0\" >2</td>\n",
              "      <td id=\"T_7aed0_row2_col1\" class=\"data row2 col1\" >6</td>\n",
              "      <td id=\"T_7aed0_row2_col2\" class=\"data row2 col2\" >0</td>\n",
              "      <td id=\"T_7aed0_row2_col3\" class=\"data row2 col3\" >2012-07-03 18:00:00</td>\n",
              "      <td id=\"T_7aed0_row2_col4\" class=\"data row2 col4\" >2</td>\n",
              "    </tr>\n",
              "  </tbody>\n",
              "</table>\n"
            ]
          },
          "metadata": {},
          "execution_count": 26
        }
      ]
    },
    {
      "cell_type": "code",
      "source": [
        "# Testing pyClient for non-Select SQL\n",
        "\n",
        "#pyClient('create table test(col1 char(10))')\n",
        "#pyClient(\"insert into test (col1) values('bbb')\")\n",
        "#pyClient('select * from test')"
      ],
      "metadata": {
        "id": "SV0xi-jLiTaz"
      },
      "execution_count": 27,
      "outputs": []
    },
    {
      "cell_type": "markdown",
      "source": [
        "##Modifying Data"
      ],
      "metadata": {
        "id": "ZVwv4rrTlefQ"
      }
    },
    {
      "cell_type": "code",
      "source": [
        "sql = \"\\\n",
        "insert into cd.facilities \\\n",
        "    (facid, name, membercost, guestcost, initialoutlay, monthlymaintenance) \\\n",
        "    values (9, 'Spa', 20, 30, 100000, 800); \\\n",
        "\"\n",
        "#print(sql)\n",
        "pyClient(sql)"
      ],
      "metadata": {
        "id": "7KFGCToWljTF",
        "outputId": "f1ef359d-5aa2-4a3e-aaed-8dba9af04f85",
        "colab": {
          "base_uri": "https://localhost:8080/"
        }
      },
      "execution_count": 28,
      "outputs": [
        {
          "output_type": "stream",
          "name": "stdout",
          "text": [
            "Command executed\n"
          ]
        }
      ]
    },
    {
      "cell_type": "code",
      "source": [
        "sql = \"\\\n",
        "insert into cd.facilities \\\n",
        "    (facid, name, membercost, guestcost, initialoutlay, monthlymaintenance) \\\n",
        "    values \\\n",
        "        (9, 'Spa', 20, 30, 100000, 800), \\\n",
        "        (10, 'Squash Court 2', 3.5, 17.5, 5000, 80);\\\n",
        "\""
      ],
      "metadata": {
        "id": "3ReJC8bll_CI"
      },
      "execution_count": 29,
      "outputs": []
    },
    {
      "cell_type": "code",
      "source": [
        "sql = \"\\\n",
        "insert into cd.facilities \\\n",
        "    (facid, name, membercost, guestcost, initialoutlay, monthlymaintenance) \\\n",
        "    values \\\n",
        "         (99, 'Spa', 20, 30, 100000, 800), \\\n",
        "         (10, 'Squash Court 2', 3.5, 17.5, 5000, 80);\\\n",
        "\"\n",
        "\n",
        "pyClient(sql)"
      ],
      "metadata": {
        "id": "n5PDjRiPmVzH",
        "outputId": "9bb82abb-f8b7-4b83-c96c-0a29a3174f1e",
        "colab": {
          "base_uri": "https://localhost:8080/"
        }
      },
      "execution_count": 30,
      "outputs": [
        {
          "output_type": "stream",
          "name": "stdout",
          "text": [
            "Command executed\n"
          ]
        }
      ]
    },
    {
      "cell_type": "markdown",
      "source": [
        "#ChronoTYM <br>\n",
        "In Indic phraseology, tantra is knowledge, a yantra is a device to explore this knowledge and a mantra is the code that unlocks both the tantra and its yantra. Chrono/TYM a sci-fi trilogy that recreates this framework where the first novel Chronotantra defines the contours of a tech driven, futuristic society, the second, Chronoyantra, describes a device used to explore the genesis of this society, while the third, Chronomantra finally reveals the code, the key, that unlocks this puzzle.  [More information](http://bit.ly/chronobooks) <br>\n",
        "![alt text](https://blogger.googleusercontent.com/img/b/R29vZ2xl/AVvXsEjdu_ajYwBRzk5iFYlcs59ZoRMMg6rhNm4JERKspvFJoveJsnfwRlzMICiC37UOja_Bd4sbfLA1pyyBbe0mj3tUfDBXoqCzNUDw3Wux7acoJBaLkWjAvJXfa7drRY2GQRAlFxEY9O7a7raY4RKy7cA3Uxgf5QsaZQ99C9GfXxFSex_rke8ROhAn41t8zOqK/s1640/tymBanner01_3.png)"
      ],
      "metadata": {
        "id": "_gNiZpyW3AzJ"
      }
    },
    {
      "cell_type": "code",
      "source": [
        "from datetime import datetime\n",
        "import pytz\n",
        "print('Last tested  ',datetime.now(pytz.timezone('Asia/Kolkata')))"
      ],
      "metadata": {
        "colab": {
          "base_uri": "https://localhost:8080/"
        },
        "id": "wjBXJVhM605H",
        "outputId": "a0b94c59-d300-4875-98fd-f5897cfd7644"
      },
      "execution_count": null,
      "outputs": [
        {
          "output_type": "stream",
          "name": "stdout",
          "text": [
            "Last tested   2025-02-27 05:54:54.392413+05:30\n"
          ]
        }
      ]
    },
    {
      "cell_type": "markdown",
      "source": [
        "1.1. Basic\n"
      ],
      "metadata": {
        "id": "5bqMRO7lLqD8"
      }
    },
    {
      "cell_type": "code",
      "source": [
        "pyClient(\"select facid, name, membercost, guestcost, initialoutlay, monthlymaintenance from cd.facilities\")"
      ],
      "metadata": {
        "colab": {
          "base_uri": "https://localhost:8080/",
          "height": 426
        },
        "id": "08bY2HrtLLNz",
        "outputId": "4794a99e-3bb5-41ff-8b61-d30e298742ca"
      },
      "execution_count": 31,
      "outputs": [
        {
          "output_type": "execute_result",
          "data": {
            "text/plain": [
              "<pandas.io.formats.style.Styler at 0x7d3b639fde10>"
            ],
            "text/html": [
              "<style type=\"text/css\">\n",
              "</style>\n",
              "<table id=\"T_e184e\" class=\"dataframe\">\n",
              "  <thead>\n",
              "    <tr>\n",
              "      <th id=\"T_e184e_level0_col0\" class=\"col_heading level0 col0\" >facid</th>\n",
              "      <th id=\"T_e184e_level0_col1\" class=\"col_heading level0 col1\" >name</th>\n",
              "      <th id=\"T_e184e_level0_col2\" class=\"col_heading level0 col2\" >membercost</th>\n",
              "      <th id=\"T_e184e_level0_col3\" class=\"col_heading level0 col3\" >guestcost</th>\n",
              "      <th id=\"T_e184e_level0_col4\" class=\"col_heading level0 col4\" >initialoutlay</th>\n",
              "      <th id=\"T_e184e_level0_col5\" class=\"col_heading level0 col5\" >monthlymaintenance</th>\n",
              "    </tr>\n",
              "  </thead>\n",
              "  <tbody>\n",
              "    <tr>\n",
              "      <td id=\"T_e184e_row0_col0\" class=\"data row0 col0\" >0</td>\n",
              "      <td id=\"T_e184e_row0_col1\" class=\"data row0 col1\" >Tennis Court 1</td>\n",
              "      <td id=\"T_e184e_row0_col2\" class=\"data row0 col2\" >5</td>\n",
              "      <td id=\"T_e184e_row0_col3\" class=\"data row0 col3\" >25</td>\n",
              "      <td id=\"T_e184e_row0_col4\" class=\"data row0 col4\" >10000</td>\n",
              "      <td id=\"T_e184e_row0_col5\" class=\"data row0 col5\" >200</td>\n",
              "    </tr>\n",
              "    <tr>\n",
              "      <td id=\"T_e184e_row1_col0\" class=\"data row1 col0\" >1</td>\n",
              "      <td id=\"T_e184e_row1_col1\" class=\"data row1 col1\" >Tennis Court 2</td>\n",
              "      <td id=\"T_e184e_row1_col2\" class=\"data row1 col2\" >5</td>\n",
              "      <td id=\"T_e184e_row1_col3\" class=\"data row1 col3\" >25</td>\n",
              "      <td id=\"T_e184e_row1_col4\" class=\"data row1 col4\" >8000</td>\n",
              "      <td id=\"T_e184e_row1_col5\" class=\"data row1 col5\" >200</td>\n",
              "    </tr>\n",
              "    <tr>\n",
              "      <td id=\"T_e184e_row2_col0\" class=\"data row2 col0\" >2</td>\n",
              "      <td id=\"T_e184e_row2_col1\" class=\"data row2 col1\" >Badminton Court</td>\n",
              "      <td id=\"T_e184e_row2_col2\" class=\"data row2 col2\" >0</td>\n",
              "      <td id=\"T_e184e_row2_col3\" class=\"data row2 col3\" >15.5</td>\n",
              "      <td id=\"T_e184e_row2_col4\" class=\"data row2 col4\" >4000</td>\n",
              "      <td id=\"T_e184e_row2_col5\" class=\"data row2 col5\" >50</td>\n",
              "    </tr>\n",
              "    <tr>\n",
              "      <td id=\"T_e184e_row3_col0\" class=\"data row3 col0\" >3</td>\n",
              "      <td id=\"T_e184e_row3_col1\" class=\"data row3 col1\" >Table Tennis</td>\n",
              "      <td id=\"T_e184e_row3_col2\" class=\"data row3 col2\" >0</td>\n",
              "      <td id=\"T_e184e_row3_col3\" class=\"data row3 col3\" >5</td>\n",
              "      <td id=\"T_e184e_row3_col4\" class=\"data row3 col4\" >320</td>\n",
              "      <td id=\"T_e184e_row3_col5\" class=\"data row3 col5\" >10</td>\n",
              "    </tr>\n",
              "    <tr>\n",
              "      <td id=\"T_e184e_row4_col0\" class=\"data row4 col0\" >4</td>\n",
              "      <td id=\"T_e184e_row4_col1\" class=\"data row4 col1\" >Massage Room 1</td>\n",
              "      <td id=\"T_e184e_row4_col2\" class=\"data row4 col2\" >35</td>\n",
              "      <td id=\"T_e184e_row4_col3\" class=\"data row4 col3\" >80</td>\n",
              "      <td id=\"T_e184e_row4_col4\" class=\"data row4 col4\" >4000</td>\n",
              "      <td id=\"T_e184e_row4_col5\" class=\"data row4 col5\" >3000</td>\n",
              "    </tr>\n",
              "    <tr>\n",
              "      <td id=\"T_e184e_row5_col0\" class=\"data row5 col0\" >5</td>\n",
              "      <td id=\"T_e184e_row5_col1\" class=\"data row5 col1\" >Massage Room 2</td>\n",
              "      <td id=\"T_e184e_row5_col2\" class=\"data row5 col2\" >35</td>\n",
              "      <td id=\"T_e184e_row5_col3\" class=\"data row5 col3\" >80</td>\n",
              "      <td id=\"T_e184e_row5_col4\" class=\"data row5 col4\" >4000</td>\n",
              "      <td id=\"T_e184e_row5_col5\" class=\"data row5 col5\" >3000</td>\n",
              "    </tr>\n",
              "    <tr>\n",
              "      <td id=\"T_e184e_row6_col0\" class=\"data row6 col0\" >6</td>\n",
              "      <td id=\"T_e184e_row6_col1\" class=\"data row6 col1\" >Squash Court</td>\n",
              "      <td id=\"T_e184e_row6_col2\" class=\"data row6 col2\" >3.5</td>\n",
              "      <td id=\"T_e184e_row6_col3\" class=\"data row6 col3\" >17.5</td>\n",
              "      <td id=\"T_e184e_row6_col4\" class=\"data row6 col4\" >5000</td>\n",
              "      <td id=\"T_e184e_row6_col5\" class=\"data row6 col5\" >80</td>\n",
              "    </tr>\n",
              "    <tr>\n",
              "      <td id=\"T_e184e_row7_col0\" class=\"data row7 col0\" >7</td>\n",
              "      <td id=\"T_e184e_row7_col1\" class=\"data row7 col1\" >Snooker Table</td>\n",
              "      <td id=\"T_e184e_row7_col2\" class=\"data row7 col2\" >0</td>\n",
              "      <td id=\"T_e184e_row7_col3\" class=\"data row7 col3\" >5</td>\n",
              "      <td id=\"T_e184e_row7_col4\" class=\"data row7 col4\" >450</td>\n",
              "      <td id=\"T_e184e_row7_col5\" class=\"data row7 col5\" >15</td>\n",
              "    </tr>\n",
              "    <tr>\n",
              "      <td id=\"T_e184e_row8_col0\" class=\"data row8 col0\" >8</td>\n",
              "      <td id=\"T_e184e_row8_col1\" class=\"data row8 col1\" >Pool Table</td>\n",
              "      <td id=\"T_e184e_row8_col2\" class=\"data row8 col2\" >0</td>\n",
              "      <td id=\"T_e184e_row8_col3\" class=\"data row8 col3\" >5</td>\n",
              "      <td id=\"T_e184e_row8_col4\" class=\"data row8 col4\" >400</td>\n",
              "      <td id=\"T_e184e_row8_col5\" class=\"data row8 col5\" >15</td>\n",
              "    </tr>\n",
              "    <tr>\n",
              "      <td id=\"T_e184e_row9_col0\" class=\"data row9 col0\" >9</td>\n",
              "      <td id=\"T_e184e_row9_col1\" class=\"data row9 col1\" >Spa</td>\n",
              "      <td id=\"T_e184e_row9_col2\" class=\"data row9 col2\" >20</td>\n",
              "      <td id=\"T_e184e_row9_col3\" class=\"data row9 col3\" >30</td>\n",
              "      <td id=\"T_e184e_row9_col4\" class=\"data row9 col4\" >100000</td>\n",
              "      <td id=\"T_e184e_row9_col5\" class=\"data row9 col5\" >800</td>\n",
              "    </tr>\n",
              "    <tr>\n",
              "      <td id=\"T_e184e_row10_col0\" class=\"data row10 col0\" >99</td>\n",
              "      <td id=\"T_e184e_row10_col1\" class=\"data row10 col1\" >Spa</td>\n",
              "      <td id=\"T_e184e_row10_col2\" class=\"data row10 col2\" >20</td>\n",
              "      <td id=\"T_e184e_row10_col3\" class=\"data row10 col3\" >30</td>\n",
              "      <td id=\"T_e184e_row10_col4\" class=\"data row10 col4\" >100000</td>\n",
              "      <td id=\"T_e184e_row10_col5\" class=\"data row10 col5\" >800</td>\n",
              "    </tr>\n",
              "    <tr>\n",
              "      <td id=\"T_e184e_row11_col0\" class=\"data row11 col0\" >10</td>\n",
              "      <td id=\"T_e184e_row11_col1\" class=\"data row11 col1\" >Squash Court 2</td>\n",
              "      <td id=\"T_e184e_row11_col2\" class=\"data row11 col2\" >3.5</td>\n",
              "      <td id=\"T_e184e_row11_col3\" class=\"data row11 col3\" >17.5</td>\n",
              "      <td id=\"T_e184e_row11_col4\" class=\"data row11 col4\" >5000</td>\n",
              "      <td id=\"T_e184e_row11_col5\" class=\"data row11 col5\" >80</td>\n",
              "    </tr>\n",
              "  </tbody>\n",
              "</table>\n"
            ]
          },
          "metadata": {},
          "execution_count": 31
        }
      ]
    },
    {
      "cell_type": "markdown",
      "source": [
        "1.2 Basic"
      ],
      "metadata": {
        "id": "MmzByebDLu0o"
      }
    },
    {
      "cell_type": "code",
      "source": [
        "pyClient(\"select name, membercost from cd.facilities\")"
      ],
      "metadata": {
        "colab": {
          "base_uri": "https://localhost:8080/",
          "height": 426
        },
        "id": "PbvhxNYkL8QI",
        "outputId": "ff4a95e8-7309-4968-fd86-873ab36f3fa6"
      },
      "execution_count": 33,
      "outputs": [
        {
          "output_type": "execute_result",
          "data": {
            "text/plain": [
              "<pandas.io.formats.style.Styler at 0x7d3b63e7bdd0>"
            ],
            "text/html": [
              "<style type=\"text/css\">\n",
              "</style>\n",
              "<table id=\"T_84894\" class=\"dataframe\">\n",
              "  <thead>\n",
              "    <tr>\n",
              "      <th id=\"T_84894_level0_col0\" class=\"col_heading level0 col0\" >name</th>\n",
              "      <th id=\"T_84894_level0_col1\" class=\"col_heading level0 col1\" >membercost</th>\n",
              "    </tr>\n",
              "  </thead>\n",
              "  <tbody>\n",
              "    <tr>\n",
              "      <td id=\"T_84894_row0_col0\" class=\"data row0 col0\" >Tennis Court 1</td>\n",
              "      <td id=\"T_84894_row0_col1\" class=\"data row0 col1\" >5</td>\n",
              "    </tr>\n",
              "    <tr>\n",
              "      <td id=\"T_84894_row1_col0\" class=\"data row1 col0\" >Tennis Court 2</td>\n",
              "      <td id=\"T_84894_row1_col1\" class=\"data row1 col1\" >5</td>\n",
              "    </tr>\n",
              "    <tr>\n",
              "      <td id=\"T_84894_row2_col0\" class=\"data row2 col0\" >Badminton Court</td>\n",
              "      <td id=\"T_84894_row2_col1\" class=\"data row2 col1\" >0</td>\n",
              "    </tr>\n",
              "    <tr>\n",
              "      <td id=\"T_84894_row3_col0\" class=\"data row3 col0\" >Table Tennis</td>\n",
              "      <td id=\"T_84894_row3_col1\" class=\"data row3 col1\" >0</td>\n",
              "    </tr>\n",
              "    <tr>\n",
              "      <td id=\"T_84894_row4_col0\" class=\"data row4 col0\" >Massage Room 1</td>\n",
              "      <td id=\"T_84894_row4_col1\" class=\"data row4 col1\" >35</td>\n",
              "    </tr>\n",
              "    <tr>\n",
              "      <td id=\"T_84894_row5_col0\" class=\"data row5 col0\" >Massage Room 2</td>\n",
              "      <td id=\"T_84894_row5_col1\" class=\"data row5 col1\" >35</td>\n",
              "    </tr>\n",
              "    <tr>\n",
              "      <td id=\"T_84894_row6_col0\" class=\"data row6 col0\" >Squash Court</td>\n",
              "      <td id=\"T_84894_row6_col1\" class=\"data row6 col1\" >3.5</td>\n",
              "    </tr>\n",
              "    <tr>\n",
              "      <td id=\"T_84894_row7_col0\" class=\"data row7 col0\" >Snooker Table</td>\n",
              "      <td id=\"T_84894_row7_col1\" class=\"data row7 col1\" >0</td>\n",
              "    </tr>\n",
              "    <tr>\n",
              "      <td id=\"T_84894_row8_col0\" class=\"data row8 col0\" >Pool Table</td>\n",
              "      <td id=\"T_84894_row8_col1\" class=\"data row8 col1\" >0</td>\n",
              "    </tr>\n",
              "    <tr>\n",
              "      <td id=\"T_84894_row9_col0\" class=\"data row9 col0\" >Spa</td>\n",
              "      <td id=\"T_84894_row9_col1\" class=\"data row9 col1\" >20</td>\n",
              "    </tr>\n",
              "    <tr>\n",
              "      <td id=\"T_84894_row10_col0\" class=\"data row10 col0\" >Spa</td>\n",
              "      <td id=\"T_84894_row10_col1\" class=\"data row10 col1\" >20</td>\n",
              "    </tr>\n",
              "    <tr>\n",
              "      <td id=\"T_84894_row11_col0\" class=\"data row11 col0\" >Squash Court 2</td>\n",
              "      <td id=\"T_84894_row11_col1\" class=\"data row11 col1\" >3.5</td>\n",
              "    </tr>\n",
              "  </tbody>\n",
              "</table>\n"
            ]
          },
          "metadata": {},
          "execution_count": 33
        }
      ]
    },
    {
      "cell_type": "markdown",
      "source": [
        "1.3  Where 1"
      ],
      "metadata": {
        "id": "eUA-xRrpMIHb"
      }
    },
    {
      "cell_type": "code",
      "source": [
        "pyClient(\"select facid, name, membercost, guestcost, initialoutlay, monthlymaintenance from cd.facilities where membercost>0 \")"
      ],
      "metadata": {
        "colab": {
          "base_uri": "https://localhost:8080/",
          "height": 300
        },
        "id": "kJ1pbgQcMGy9",
        "outputId": "1cb08aeb-6990-41cd-c3c9-8f9c39e867b4"
      },
      "execution_count": 34,
      "outputs": [
        {
          "output_type": "execute_result",
          "data": {
            "text/plain": [
              "<pandas.io.formats.style.Styler at 0x7d3b63165d10>"
            ],
            "text/html": [
              "<style type=\"text/css\">\n",
              "</style>\n",
              "<table id=\"T_91da1\" class=\"dataframe\">\n",
              "  <thead>\n",
              "    <tr>\n",
              "      <th id=\"T_91da1_level0_col0\" class=\"col_heading level0 col0\" >facid</th>\n",
              "      <th id=\"T_91da1_level0_col1\" class=\"col_heading level0 col1\" >name</th>\n",
              "      <th id=\"T_91da1_level0_col2\" class=\"col_heading level0 col2\" >membercost</th>\n",
              "      <th id=\"T_91da1_level0_col3\" class=\"col_heading level0 col3\" >guestcost</th>\n",
              "      <th id=\"T_91da1_level0_col4\" class=\"col_heading level0 col4\" >initialoutlay</th>\n",
              "      <th id=\"T_91da1_level0_col5\" class=\"col_heading level0 col5\" >monthlymaintenance</th>\n",
              "    </tr>\n",
              "  </thead>\n",
              "  <tbody>\n",
              "    <tr>\n",
              "      <td id=\"T_91da1_row0_col0\" class=\"data row0 col0\" >0</td>\n",
              "      <td id=\"T_91da1_row0_col1\" class=\"data row0 col1\" >Tennis Court 1</td>\n",
              "      <td id=\"T_91da1_row0_col2\" class=\"data row0 col2\" >5</td>\n",
              "      <td id=\"T_91da1_row0_col3\" class=\"data row0 col3\" >25</td>\n",
              "      <td id=\"T_91da1_row0_col4\" class=\"data row0 col4\" >10000</td>\n",
              "      <td id=\"T_91da1_row0_col5\" class=\"data row0 col5\" >200</td>\n",
              "    </tr>\n",
              "    <tr>\n",
              "      <td id=\"T_91da1_row1_col0\" class=\"data row1 col0\" >1</td>\n",
              "      <td id=\"T_91da1_row1_col1\" class=\"data row1 col1\" >Tennis Court 2</td>\n",
              "      <td id=\"T_91da1_row1_col2\" class=\"data row1 col2\" >5</td>\n",
              "      <td id=\"T_91da1_row1_col3\" class=\"data row1 col3\" >25</td>\n",
              "      <td id=\"T_91da1_row1_col4\" class=\"data row1 col4\" >8000</td>\n",
              "      <td id=\"T_91da1_row1_col5\" class=\"data row1 col5\" >200</td>\n",
              "    </tr>\n",
              "    <tr>\n",
              "      <td id=\"T_91da1_row2_col0\" class=\"data row2 col0\" >4</td>\n",
              "      <td id=\"T_91da1_row2_col1\" class=\"data row2 col1\" >Massage Room 1</td>\n",
              "      <td id=\"T_91da1_row2_col2\" class=\"data row2 col2\" >35</td>\n",
              "      <td id=\"T_91da1_row2_col3\" class=\"data row2 col3\" >80</td>\n",
              "      <td id=\"T_91da1_row2_col4\" class=\"data row2 col4\" >4000</td>\n",
              "      <td id=\"T_91da1_row2_col5\" class=\"data row2 col5\" >3000</td>\n",
              "    </tr>\n",
              "    <tr>\n",
              "      <td id=\"T_91da1_row3_col0\" class=\"data row3 col0\" >5</td>\n",
              "      <td id=\"T_91da1_row3_col1\" class=\"data row3 col1\" >Massage Room 2</td>\n",
              "      <td id=\"T_91da1_row3_col2\" class=\"data row3 col2\" >35</td>\n",
              "      <td id=\"T_91da1_row3_col3\" class=\"data row3 col3\" >80</td>\n",
              "      <td id=\"T_91da1_row3_col4\" class=\"data row3 col4\" >4000</td>\n",
              "      <td id=\"T_91da1_row3_col5\" class=\"data row3 col5\" >3000</td>\n",
              "    </tr>\n",
              "    <tr>\n",
              "      <td id=\"T_91da1_row4_col0\" class=\"data row4 col0\" >6</td>\n",
              "      <td id=\"T_91da1_row4_col1\" class=\"data row4 col1\" >Squash Court</td>\n",
              "      <td id=\"T_91da1_row4_col2\" class=\"data row4 col2\" >3.5</td>\n",
              "      <td id=\"T_91da1_row4_col3\" class=\"data row4 col3\" >17.5</td>\n",
              "      <td id=\"T_91da1_row4_col4\" class=\"data row4 col4\" >5000</td>\n",
              "      <td id=\"T_91da1_row4_col5\" class=\"data row4 col5\" >80</td>\n",
              "    </tr>\n",
              "    <tr>\n",
              "      <td id=\"T_91da1_row5_col0\" class=\"data row5 col0\" >9</td>\n",
              "      <td id=\"T_91da1_row5_col1\" class=\"data row5 col1\" >Spa</td>\n",
              "      <td id=\"T_91da1_row5_col2\" class=\"data row5 col2\" >20</td>\n",
              "      <td id=\"T_91da1_row5_col3\" class=\"data row5 col3\" >30</td>\n",
              "      <td id=\"T_91da1_row5_col4\" class=\"data row5 col4\" >100000</td>\n",
              "      <td id=\"T_91da1_row5_col5\" class=\"data row5 col5\" >800</td>\n",
              "    </tr>\n",
              "    <tr>\n",
              "      <td id=\"T_91da1_row6_col0\" class=\"data row6 col0\" >99</td>\n",
              "      <td id=\"T_91da1_row6_col1\" class=\"data row6 col1\" >Spa</td>\n",
              "      <td id=\"T_91da1_row6_col2\" class=\"data row6 col2\" >20</td>\n",
              "      <td id=\"T_91da1_row6_col3\" class=\"data row6 col3\" >30</td>\n",
              "      <td id=\"T_91da1_row6_col4\" class=\"data row6 col4\" >100000</td>\n",
              "      <td id=\"T_91da1_row6_col5\" class=\"data row6 col5\" >800</td>\n",
              "    </tr>\n",
              "    <tr>\n",
              "      <td id=\"T_91da1_row7_col0\" class=\"data row7 col0\" >10</td>\n",
              "      <td id=\"T_91da1_row7_col1\" class=\"data row7 col1\" >Squash Court 2</td>\n",
              "      <td id=\"T_91da1_row7_col2\" class=\"data row7 col2\" >3.5</td>\n",
              "      <td id=\"T_91da1_row7_col3\" class=\"data row7 col3\" >17.5</td>\n",
              "      <td id=\"T_91da1_row7_col4\" class=\"data row7 col4\" >5000</td>\n",
              "      <td id=\"T_91da1_row7_col5\" class=\"data row7 col5\" >80</td>\n",
              "    </tr>\n",
              "  </tbody>\n",
              "</table>\n"
            ]
          },
          "metadata": {},
          "execution_count": 34
        }
      ]
    },
    {
      "cell_type": "markdown",
      "source": [
        "1.4 Where- 2"
      ],
      "metadata": {
        "id": "yJ0Wbk1LNq2q"
      }
    },
    {
      "cell_type": "code",
      "source": [
        "pyClient(\"select facid,name, membercost, monthlymaintenance from cd.facilities where membercost=35\")"
      ],
      "metadata": {
        "colab": {
          "base_uri": "https://localhost:8080/",
          "height": 112
        },
        "id": "nrJ6ouffNefz",
        "outputId": "11e64288-0d2a-486a-ed7d-28504acda8cd"
      },
      "execution_count": 35,
      "outputs": [
        {
          "output_type": "execute_result",
          "data": {
            "text/plain": [
              "<pandas.io.formats.style.Styler at 0x7d3b63166f50>"
            ],
            "text/html": [
              "<style type=\"text/css\">\n",
              "</style>\n",
              "<table id=\"T_d2c3c\" class=\"dataframe\">\n",
              "  <thead>\n",
              "    <tr>\n",
              "      <th id=\"T_d2c3c_level0_col0\" class=\"col_heading level0 col0\" >facid</th>\n",
              "      <th id=\"T_d2c3c_level0_col1\" class=\"col_heading level0 col1\" >name</th>\n",
              "      <th id=\"T_d2c3c_level0_col2\" class=\"col_heading level0 col2\" >membercost</th>\n",
              "      <th id=\"T_d2c3c_level0_col3\" class=\"col_heading level0 col3\" >monthlymaintenance</th>\n",
              "    </tr>\n",
              "  </thead>\n",
              "  <tbody>\n",
              "    <tr>\n",
              "      <td id=\"T_d2c3c_row0_col0\" class=\"data row0 col0\" >4</td>\n",
              "      <td id=\"T_d2c3c_row0_col1\" class=\"data row0 col1\" >Massage Room 1</td>\n",
              "      <td id=\"T_d2c3c_row0_col2\" class=\"data row0 col2\" >35</td>\n",
              "      <td id=\"T_d2c3c_row0_col3\" class=\"data row0 col3\" >3000</td>\n",
              "    </tr>\n",
              "    <tr>\n",
              "      <td id=\"T_d2c3c_row1_col0\" class=\"data row1 col0\" >5</td>\n",
              "      <td id=\"T_d2c3c_row1_col1\" class=\"data row1 col1\" >Massage Room 2</td>\n",
              "      <td id=\"T_d2c3c_row1_col2\" class=\"data row1 col2\" >35</td>\n",
              "      <td id=\"T_d2c3c_row1_col3\" class=\"data row1 col3\" >3000</td>\n",
              "    </tr>\n",
              "  </tbody>\n",
              "</table>\n"
            ]
          },
          "metadata": {},
          "execution_count": 35
        }
      ]
    },
    {
      "cell_type": "markdown",
      "source": [
        "1.5 Where 3"
      ],
      "metadata": {
        "id": "gQwWwoBLO0Jn"
      }
    },
    {
      "cell_type": "code",
      "source": [
        "pyClient(\"select * from cd.facilities where name like 'Tennis%' or name like 'Table%'\")"
      ],
      "metadata": {
        "colab": {
          "base_uri": "https://localhost:8080/",
          "height": 143
        },
        "id": "6HwO-iyxOL7e",
        "outputId": "b98b8c01-5faa-48e1-d0d9-eaf68a4e62a2"
      },
      "execution_count": 38,
      "outputs": [
        {
          "output_type": "execute_result",
          "data": {
            "text/plain": [
              "<pandas.io.formats.style.Styler at 0x7d3b6330a750>"
            ],
            "text/html": [
              "<style type=\"text/css\">\n",
              "</style>\n",
              "<table id=\"T_c7cab\" class=\"dataframe\">\n",
              "  <thead>\n",
              "    <tr>\n",
              "      <th id=\"T_c7cab_level0_col0\" class=\"col_heading level0 col0\" >facid</th>\n",
              "      <th id=\"T_c7cab_level0_col1\" class=\"col_heading level0 col1\" >name</th>\n",
              "      <th id=\"T_c7cab_level0_col2\" class=\"col_heading level0 col2\" >membercost</th>\n",
              "      <th id=\"T_c7cab_level0_col3\" class=\"col_heading level0 col3\" >guestcost</th>\n",
              "      <th id=\"T_c7cab_level0_col4\" class=\"col_heading level0 col4\" >initialoutlay</th>\n",
              "      <th id=\"T_c7cab_level0_col5\" class=\"col_heading level0 col5\" >monthlymaintenance</th>\n",
              "    </tr>\n",
              "  </thead>\n",
              "  <tbody>\n",
              "    <tr>\n",
              "      <td id=\"T_c7cab_row0_col0\" class=\"data row0 col0\" >0</td>\n",
              "      <td id=\"T_c7cab_row0_col1\" class=\"data row0 col1\" >Tennis Court 1</td>\n",
              "      <td id=\"T_c7cab_row0_col2\" class=\"data row0 col2\" >5</td>\n",
              "      <td id=\"T_c7cab_row0_col3\" class=\"data row0 col3\" >25</td>\n",
              "      <td id=\"T_c7cab_row0_col4\" class=\"data row0 col4\" >10000</td>\n",
              "      <td id=\"T_c7cab_row0_col5\" class=\"data row0 col5\" >200</td>\n",
              "    </tr>\n",
              "    <tr>\n",
              "      <td id=\"T_c7cab_row1_col0\" class=\"data row1 col0\" >1</td>\n",
              "      <td id=\"T_c7cab_row1_col1\" class=\"data row1 col1\" >Tennis Court 2</td>\n",
              "      <td id=\"T_c7cab_row1_col2\" class=\"data row1 col2\" >5</td>\n",
              "      <td id=\"T_c7cab_row1_col3\" class=\"data row1 col3\" >25</td>\n",
              "      <td id=\"T_c7cab_row1_col4\" class=\"data row1 col4\" >8000</td>\n",
              "      <td id=\"T_c7cab_row1_col5\" class=\"data row1 col5\" >200</td>\n",
              "    </tr>\n",
              "    <tr>\n",
              "      <td id=\"T_c7cab_row2_col0\" class=\"data row2 col0\" >3</td>\n",
              "      <td id=\"T_c7cab_row2_col1\" class=\"data row2 col1\" >Table Tennis</td>\n",
              "      <td id=\"T_c7cab_row2_col2\" class=\"data row2 col2\" >0</td>\n",
              "      <td id=\"T_c7cab_row2_col3\" class=\"data row2 col3\" >5</td>\n",
              "      <td id=\"T_c7cab_row2_col4\" class=\"data row2 col4\" >320</td>\n",
              "      <td id=\"T_c7cab_row2_col5\" class=\"data row2 col5\" >10</td>\n",
              "    </tr>\n",
              "  </tbody>\n",
              "</table>\n"
            ]
          },
          "metadata": {},
          "execution_count": 38
        }
      ]
    },
    {
      "cell_type": "markdown",
      "source": [
        "1.6 Where4"
      ],
      "metadata": {
        "id": "kMaSpKJVPRsz"
      }
    },
    {
      "cell_type": "code",
      "source": [
        "pyClient(\"select * from cd.facilities where facid in (1,5)\")"
      ],
      "metadata": {
        "colab": {
          "base_uri": "https://localhost:8080/",
          "height": 112
        },
        "id": "u6dtwxY-O8R0",
        "outputId": "48a8ed18-2d02-4ee5-8ae8-88cbd9c4b017"
      },
      "execution_count": 39,
      "outputs": [
        {
          "output_type": "execute_result",
          "data": {
            "text/plain": [
              "<pandas.io.formats.style.Styler at 0x7d3b6333c550>"
            ],
            "text/html": [
              "<style type=\"text/css\">\n",
              "</style>\n",
              "<table id=\"T_f0044\" class=\"dataframe\">\n",
              "  <thead>\n",
              "    <tr>\n",
              "      <th id=\"T_f0044_level0_col0\" class=\"col_heading level0 col0\" >facid</th>\n",
              "      <th id=\"T_f0044_level0_col1\" class=\"col_heading level0 col1\" >name</th>\n",
              "      <th id=\"T_f0044_level0_col2\" class=\"col_heading level0 col2\" >membercost</th>\n",
              "      <th id=\"T_f0044_level0_col3\" class=\"col_heading level0 col3\" >guestcost</th>\n",
              "      <th id=\"T_f0044_level0_col4\" class=\"col_heading level0 col4\" >initialoutlay</th>\n",
              "      <th id=\"T_f0044_level0_col5\" class=\"col_heading level0 col5\" >monthlymaintenance</th>\n",
              "    </tr>\n",
              "  </thead>\n",
              "  <tbody>\n",
              "    <tr>\n",
              "      <td id=\"T_f0044_row0_col0\" class=\"data row0 col0\" >1</td>\n",
              "      <td id=\"T_f0044_row0_col1\" class=\"data row0 col1\" >Tennis Court 2</td>\n",
              "      <td id=\"T_f0044_row0_col2\" class=\"data row0 col2\" >5</td>\n",
              "      <td id=\"T_f0044_row0_col3\" class=\"data row0 col3\" >25</td>\n",
              "      <td id=\"T_f0044_row0_col4\" class=\"data row0 col4\" >8000</td>\n",
              "      <td id=\"T_f0044_row0_col5\" class=\"data row0 col5\" >200</td>\n",
              "    </tr>\n",
              "    <tr>\n",
              "      <td id=\"T_f0044_row1_col0\" class=\"data row1 col0\" >5</td>\n",
              "      <td id=\"T_f0044_row1_col1\" class=\"data row1 col1\" >Massage Room 2</td>\n",
              "      <td id=\"T_f0044_row1_col2\" class=\"data row1 col2\" >35</td>\n",
              "      <td id=\"T_f0044_row1_col3\" class=\"data row1 col3\" >80</td>\n",
              "      <td id=\"T_f0044_row1_col4\" class=\"data row1 col4\" >4000</td>\n",
              "      <td id=\"T_f0044_row1_col5\" class=\"data row1 col5\" >3000</td>\n",
              "    </tr>\n",
              "  </tbody>\n",
              "</table>\n"
            ]
          },
          "metadata": {},
          "execution_count": 39
        }
      ]
    },
    {
      "cell_type": "markdown",
      "source": [
        "1.7 Classify"
      ],
      "metadata": {
        "id": "hOJuSODjP2Lc"
      }
    },
    {
      "cell_type": "code",
      "source": [
        "pyClient(\"select name, case when (monthlymaintenance > 100) then 'expensive' else 'cheap' end as cost from cd.facilities\")"
      ],
      "metadata": {
        "id": "gfwfIMVTP3T4",
        "outputId": "13e26009-c877-448e-f709-06d3bc0f4b78",
        "colab": {
          "base_uri": "https://localhost:8080/",
          "height": 426
        }
      },
      "execution_count": 42,
      "outputs": [
        {
          "output_type": "execute_result",
          "data": {
            "text/plain": [
              "<pandas.io.formats.style.Styler at 0x7d3b6324d4d0>"
            ],
            "text/html": [
              "<style type=\"text/css\">\n",
              "</style>\n",
              "<table id=\"T_99373\" class=\"dataframe\">\n",
              "  <thead>\n",
              "    <tr>\n",
              "      <th id=\"T_99373_level0_col0\" class=\"col_heading level0 col0\" >name</th>\n",
              "      <th id=\"T_99373_level0_col1\" class=\"col_heading level0 col1\" >cost</th>\n",
              "    </tr>\n",
              "  </thead>\n",
              "  <tbody>\n",
              "    <tr>\n",
              "      <td id=\"T_99373_row0_col0\" class=\"data row0 col0\" >Tennis Court 1</td>\n",
              "      <td id=\"T_99373_row0_col1\" class=\"data row0 col1\" >expensive</td>\n",
              "    </tr>\n",
              "    <tr>\n",
              "      <td id=\"T_99373_row1_col0\" class=\"data row1 col0\" >Tennis Court 2</td>\n",
              "      <td id=\"T_99373_row1_col1\" class=\"data row1 col1\" >expensive</td>\n",
              "    </tr>\n",
              "    <tr>\n",
              "      <td id=\"T_99373_row2_col0\" class=\"data row2 col0\" >Badminton Court</td>\n",
              "      <td id=\"T_99373_row2_col1\" class=\"data row2 col1\" >cheap</td>\n",
              "    </tr>\n",
              "    <tr>\n",
              "      <td id=\"T_99373_row3_col0\" class=\"data row3 col0\" >Table Tennis</td>\n",
              "      <td id=\"T_99373_row3_col1\" class=\"data row3 col1\" >cheap</td>\n",
              "    </tr>\n",
              "    <tr>\n",
              "      <td id=\"T_99373_row4_col0\" class=\"data row4 col0\" >Massage Room 1</td>\n",
              "      <td id=\"T_99373_row4_col1\" class=\"data row4 col1\" >expensive</td>\n",
              "    </tr>\n",
              "    <tr>\n",
              "      <td id=\"T_99373_row5_col0\" class=\"data row5 col0\" >Massage Room 2</td>\n",
              "      <td id=\"T_99373_row5_col1\" class=\"data row5 col1\" >expensive</td>\n",
              "    </tr>\n",
              "    <tr>\n",
              "      <td id=\"T_99373_row6_col0\" class=\"data row6 col0\" >Squash Court</td>\n",
              "      <td id=\"T_99373_row6_col1\" class=\"data row6 col1\" >cheap</td>\n",
              "    </tr>\n",
              "    <tr>\n",
              "      <td id=\"T_99373_row7_col0\" class=\"data row7 col0\" >Snooker Table</td>\n",
              "      <td id=\"T_99373_row7_col1\" class=\"data row7 col1\" >cheap</td>\n",
              "    </tr>\n",
              "    <tr>\n",
              "      <td id=\"T_99373_row8_col0\" class=\"data row8 col0\" >Pool Table</td>\n",
              "      <td id=\"T_99373_row8_col1\" class=\"data row8 col1\" >cheap</td>\n",
              "    </tr>\n",
              "    <tr>\n",
              "      <td id=\"T_99373_row9_col0\" class=\"data row9 col0\" >Spa</td>\n",
              "      <td id=\"T_99373_row9_col1\" class=\"data row9 col1\" >expensive</td>\n",
              "    </tr>\n",
              "    <tr>\n",
              "      <td id=\"T_99373_row10_col0\" class=\"data row10 col0\" >Spa</td>\n",
              "      <td id=\"T_99373_row10_col1\" class=\"data row10 col1\" >expensive</td>\n",
              "    </tr>\n",
              "    <tr>\n",
              "      <td id=\"T_99373_row11_col0\" class=\"data row11 col0\" >Squash Court 2</td>\n",
              "      <td id=\"T_99373_row11_col1\" class=\"data row11 col1\" >cheap</td>\n",
              "    </tr>\n",
              "  </tbody>\n",
              "</table>\n"
            ]
          },
          "metadata": {},
          "execution_count": 42
        }
      ]
    },
    {
      "cell_type": "markdown",
      "source": [
        "1.8 Date"
      ],
      "metadata": {
        "id": "IAEDA6J3R1hA"
      }
    },
    {
      "cell_type": "code",
      "source": [
        "pyClient(\"select memid, surname, firstname, joindate from cd.members where joindate>'2012-09-01'\")"
      ],
      "metadata": {
        "id": "1RU_OyPwRncS",
        "outputId": "0466415f-44c0-46c5-d631-62d31989cf56",
        "colab": {
          "base_uri": "https://localhost:8080/",
          "height": 363
        }
      },
      "execution_count": 43,
      "outputs": [
        {
          "output_type": "execute_result",
          "data": {
            "text/plain": [
              "<pandas.io.formats.style.Styler at 0x7d3b6330a6d0>"
            ],
            "text/html": [
              "<style type=\"text/css\">\n",
              "</style>\n",
              "<table id=\"T_6fb04\" class=\"dataframe\">\n",
              "  <thead>\n",
              "    <tr>\n",
              "      <th id=\"T_6fb04_level0_col0\" class=\"col_heading level0 col0\" >memid</th>\n",
              "      <th id=\"T_6fb04_level0_col1\" class=\"col_heading level0 col1\" >surname</th>\n",
              "      <th id=\"T_6fb04_level0_col2\" class=\"col_heading level0 col2\" >firstname</th>\n",
              "      <th id=\"T_6fb04_level0_col3\" class=\"col_heading level0 col3\" >joindate</th>\n",
              "    </tr>\n",
              "  </thead>\n",
              "  <tbody>\n",
              "    <tr>\n",
              "      <td id=\"T_6fb04_row0_col0\" class=\"data row0 col0\" >24</td>\n",
              "      <td id=\"T_6fb04_row0_col1\" class=\"data row0 col1\" >Sarwin</td>\n",
              "      <td id=\"T_6fb04_row0_col2\" class=\"data row0 col2\" >Ramnaresh</td>\n",
              "      <td id=\"T_6fb04_row0_col3\" class=\"data row0 col3\" >2012-09-01 08:44:42</td>\n",
              "    </tr>\n",
              "    <tr>\n",
              "      <td id=\"T_6fb04_row1_col0\" class=\"data row1 col0\" >26</td>\n",
              "      <td id=\"T_6fb04_row1_col1\" class=\"data row1 col1\" >Jones</td>\n",
              "      <td id=\"T_6fb04_row1_col2\" class=\"data row1 col2\" >Douglas</td>\n",
              "      <td id=\"T_6fb04_row1_col3\" class=\"data row1 col3\" >2012-09-02 18:43:05</td>\n",
              "    </tr>\n",
              "    <tr>\n",
              "      <td id=\"T_6fb04_row2_col0\" class=\"data row2 col0\" >27</td>\n",
              "      <td id=\"T_6fb04_row2_col1\" class=\"data row2 col1\" >Rumney</td>\n",
              "      <td id=\"T_6fb04_row2_col2\" class=\"data row2 col2\" >Henrietta</td>\n",
              "      <td id=\"T_6fb04_row2_col3\" class=\"data row2 col3\" >2012-09-05 08:42:35</td>\n",
              "    </tr>\n",
              "    <tr>\n",
              "      <td id=\"T_6fb04_row3_col0\" class=\"data row3 col0\" >28</td>\n",
              "      <td id=\"T_6fb04_row3_col1\" class=\"data row3 col1\" >Farrell</td>\n",
              "      <td id=\"T_6fb04_row3_col2\" class=\"data row3 col2\" >David</td>\n",
              "      <td id=\"T_6fb04_row3_col3\" class=\"data row3 col3\" >2012-09-15 08:22:05</td>\n",
              "    </tr>\n",
              "    <tr>\n",
              "      <td id=\"T_6fb04_row4_col0\" class=\"data row4 col0\" >29</td>\n",
              "      <td id=\"T_6fb04_row4_col1\" class=\"data row4 col1\" >Worthington-Smyth</td>\n",
              "      <td id=\"T_6fb04_row4_col2\" class=\"data row4 col2\" >Henry</td>\n",
              "      <td id=\"T_6fb04_row4_col3\" class=\"data row4 col3\" >2012-09-17 12:27:15</td>\n",
              "    </tr>\n",
              "    <tr>\n",
              "      <td id=\"T_6fb04_row5_col0\" class=\"data row5 col0\" >30</td>\n",
              "      <td id=\"T_6fb04_row5_col1\" class=\"data row5 col1\" >Purview</td>\n",
              "      <td id=\"T_6fb04_row5_col2\" class=\"data row5 col2\" >Millicent</td>\n",
              "      <td id=\"T_6fb04_row5_col3\" class=\"data row5 col3\" >2012-09-18 19:04:01</td>\n",
              "    </tr>\n",
              "    <tr>\n",
              "      <td id=\"T_6fb04_row6_col0\" class=\"data row6 col0\" >33</td>\n",
              "      <td id=\"T_6fb04_row6_col1\" class=\"data row6 col1\" >Tupperware</td>\n",
              "      <td id=\"T_6fb04_row6_col2\" class=\"data row6 col2\" >Hyacinth</td>\n",
              "      <td id=\"T_6fb04_row6_col3\" class=\"data row6 col3\" >2012-09-18 19:32:05</td>\n",
              "    </tr>\n",
              "    <tr>\n",
              "      <td id=\"T_6fb04_row7_col0\" class=\"data row7 col0\" >35</td>\n",
              "      <td id=\"T_6fb04_row7_col1\" class=\"data row7 col1\" >Hunt</td>\n",
              "      <td id=\"T_6fb04_row7_col2\" class=\"data row7 col2\" >John</td>\n",
              "      <td id=\"T_6fb04_row7_col3\" class=\"data row7 col3\" >2012-09-19 11:32:45</td>\n",
              "    </tr>\n",
              "    <tr>\n",
              "      <td id=\"T_6fb04_row8_col0\" class=\"data row8 col0\" >36</td>\n",
              "      <td id=\"T_6fb04_row8_col1\" class=\"data row8 col1\" >Crumpet</td>\n",
              "      <td id=\"T_6fb04_row8_col2\" class=\"data row8 col2\" >Erica</td>\n",
              "      <td id=\"T_6fb04_row8_col3\" class=\"data row8 col3\" >2012-09-22 08:36:38</td>\n",
              "    </tr>\n",
              "    <tr>\n",
              "      <td id=\"T_6fb04_row9_col0\" class=\"data row9 col0\" >37</td>\n",
              "      <td id=\"T_6fb04_row9_col1\" class=\"data row9 col1\" >Smith</td>\n",
              "      <td id=\"T_6fb04_row9_col2\" class=\"data row9 col2\" >Darren</td>\n",
              "      <td id=\"T_6fb04_row9_col3\" class=\"data row9 col3\" >2012-09-26 18:08:45</td>\n",
              "    </tr>\n",
              "  </tbody>\n",
              "</table>\n"
            ]
          },
          "metadata": {},
          "execution_count": 43
        }
      ]
    },
    {
      "cell_type": "code",
      "source": [],
      "metadata": {
        "id": "uOW2InajShrS"
      },
      "execution_count": null,
      "outputs": []
    }
  ]
}